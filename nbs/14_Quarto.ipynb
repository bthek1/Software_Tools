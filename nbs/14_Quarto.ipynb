{
 "cells": [
  {
   "cell_type": "markdown",
   "metadata": {},
   "source": [
    "# Quarto \n",
    "\n",
    "> Details on setting up Quarto Setup\n",
    "\n",
    "- skip_showdoc: true\n",
    "- skip_exec: true"
   ]
  },
  {
   "cell_type": "code",
   "execution_count": null,
   "metadata": {},
   "outputs": [],
   "source": [
    "#| default_exp quarto"
   ]
  },
  {
   "cell_type": "markdown",
   "metadata": {},
   "source": [
    "## Download\n",
    "\n",
    "> Downlaod quarto : quarto-1.3.433-win"
   ]
  },
  {
   "cell_type": "markdown",
   "metadata": {},
   "source": [
    ">> Remember to restart the computer"
   ]
  },
  {
   "cell_type": "markdown",
   "metadata": {},
   "source": [
    "### for linux\n",
    "```sh\n",
    "wget https://quarto.org/download/latest/quarto-linux-amd64.deb\n",
    "```\n",
    "\n",
    "Next use:\n",
    "```sh\n",
    "sudo apt install ./<name>.deb\n",
    "```\n",
    "\n",
    "Example:\n",
    "```sh\n",
    "sudo apt install quarto-linux-amd64.deb\n",
    "```\n"
   ]
  },
  {
   "cell_type": "markdown",
   "metadata": {},
   "source": [
    "## Installs"
   ]
  },
  {
   "cell_type": "markdown",
   "metadata": {},
   "source": [
    "```sh\n",
    "pip install jupyter jupyterlab\n",
    "```\n",
    "```sh\n",
    "pip install matplotlib plotly\n",
    "```\n",
    "\n"
   ]
  },
  {
   "cell_type": "markdown",
   "metadata": {},
   "source": [
    "# Useful commands"
   ]
  },
  {
   "cell_type": "markdown",
   "metadata": {},
   "source": [
    "- For help  \n",
    "```sh\n",
    "quarto -h\n",
    "```"
   ]
  },
  {
   "cell_type": "markdown",
   "metadata": {},
   "source": [
    "- For viewing  \n",
    "```sh\n",
    "quarto preview FILENAME.ipynb\n",
    "```"
   ]
  },
  {
   "cell_type": "markdown",
   "metadata": {},
   "source": [
    "- For rendering to html\n",
    "```sh\n",
    "quarto render FILENAME.ipynb --to html\n",
    "```"
   ]
  },
  {
   "cell_type": "markdown",
   "metadata": {},
   "source": [
    "- For rendering to docx a\n",
    "```sh\n",
    "quarto render FILENAME.ipynb --to docx\n",
    "```"
   ]
  },
  {
   "cell_type": "code",
   "execution_count": null,
   "metadata": {},
   "outputs": [],
   "source": []
  }
 ],
 "metadata": {
  "kernelspec": {
   "display_name": "python3",
   "language": "python",
   "name": "python3"
  }
 },
 "nbformat": 4,
 "nbformat_minor": 4
}
