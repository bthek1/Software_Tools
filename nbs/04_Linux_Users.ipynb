{
 "cells": [
  {
   "cell_type": "markdown",
   "id": "9d37fb92-8976-4b8f-8731-2c6084950894",
   "metadata": {},
   "source": [
    "# Linux Users, Groups and Permissions\n",
    "\n",
    "> Linux User, Groups and Permissions\n",
    "\n",
    "- skip_showdoc: true\n",
    "- skip_exec: true"
   ]
  },
  {
   "cell_type": "markdown",
   "id": "aca7e205-2aaf-44cc-bd4e-d6d8e92f0b05",
   "metadata": {},
   "source": [
    "## Types of Users in Linux"
   ]
  },
  {
   "cell_type": "markdown",
   "id": "dd24f473-29b3-4fe9-ab56-39f3544b98b1",
   "metadata": {},
   "source": [
    "### Root User (Superuser):"
   ]
  },
  {
   "cell_type": "markdown",
   "id": "7e09ca6d-7045-4d47-8bfe-2b0b3ed70da5",
   "metadata": {},
   "source": [
    "- The root user has unrestricted access to the entire system.\n",
    "- Root can execute any command, access any file, and modify any configuration.\n",
    "- Typically used for system administration tasks.\n",
    "- Home directory is usually /root.\n",
    "- Commands are run as root using sudo or by switching to the root user with su.\n",
    "    "
   ]
  },
  {
   "cell_type": "markdown",
   "id": "880d95d1-3951-4098-acc8-fc01acc1dfe2",
   "metadata": {},
   "source": [
    "### Regular Users:"
   ]
  },
  {
   "cell_type": "markdown",
   "id": "59f86ab8-b209-4c0e-a795-9b2c322c63af",
   "metadata": {},
   "source": [
    "- Regular users have limited access to the system.\n",
    "- Each user has a home directory under /home/username.\n",
    "- Regular users can only access files and resources they own or have permission to access.\n",
    "- Used for day-to-day tasks and activities."
   ]
  },
  {
   "cell_type": "markdown",
   "id": "c3d6274a-c184-41c6-a9a6-d4d18d39533a",
   "metadata": {},
   "source": [
    "### System Users:"
   ]
  },
  {
   "cell_type": "markdown",
   "id": "7dfaae91-7f54-4820-a229-acaf61b882f2",
   "metadata": {},
   "source": [
    "- System users are non-login accounts used by system services and daemons (e.g., www-data for web servers, mysql for databases).\n",
    "- Typically, these users don’t have a home directory or an interactive shell.\n",
    "- Created to run specific services securely, without giving them unnecessary privileges."
   ]
  },
  {
   "cell_type": "markdown",
   "id": "0a89a9a5-944a-4b23-9251-e44aaba62704",
   "metadata": {},
   "source": [
    "## User Management"
   ]
  },
  {
   "cell_type": "markdown",
   "id": "f14437bc-d160-455f-941b-e64a01475d7a",
   "metadata": {},
   "source": [
    "### Creating a User:"
   ]
  },
  {
   "attachments": {},
   "cell_type": "markdown",
   "id": "b672d91a-3123-4ce7-8921-ce2f717f2043",
   "metadata": {},
   "source": [
    "- Users are created using the useradd or adduser command.\n",
    "- useradd is the low-level command, while adduser is a more user-friendly script that provides additional features.\n",
    "- Example:\n",
    "```sh\n",
    "sudo useradd -m username\n",
    "sudo passwd username\n",
    "```\n",
    "\n",
    "- `-m` creates a home directory for the user."
   ]
  },
  {
   "cell_type": "markdown",
   "id": "b5a7e810-b8d1-44b0-a657-ef9d0d34e05d",
   "metadata": {},
   "source": [
    "### Deleting a User:"
   ]
  },
  {
   "cell_type": "markdown",
   "id": "3f99e7f5-0f85-46a8-9231-a2a35cc92bda",
   "metadata": {},
   "source": [
    "- Users can be deleted using the userdel command.\n",
    "- userdel -r will delete the user’s home directory as well.\n",
    "- Example:\n",
    "```sh\n",
    "sudo userdel -r username\n",
    "```"
   ]
  },
  {
   "cell_type": "markdown",
   "id": "ffb8404a-31eb-4494-abaa-d0648495855f",
   "metadata": {},
   "source": [
    "### Modifying a User:"
   ]
  },
  {
   "cell_type": "markdown",
   "id": "f17ae844-b3e4-4fc5-a989-e231fed458c9",
   "metadata": {},
   "source": [
    "- The usermod command allows you to modify user details, such as changing the username, home directory, or adding the user to a group.\n",
    "- Example:\n",
    "\n",
    "```sh\n",
    "sudo usermod -d /new/home username\n",
    "sudo usermod -aG groupname username\n",
    "\n",
    "```"
   ]
  },
  {
   "cell_type": "markdown",
   "id": "2b43608d-faef-49ea-8ec5-cb8544a3163f",
   "metadata": {},
   "source": [
    "### Changing User Passwords:\n",
    "\n",
    "- The passwd command is used to change a user’s password.\n",
    "- Users can change their own password using passwd, or an administrator can change another user's password using sudo passwd username.\n",
    "- Example:\n",
    "```sh\n",
    "sudo passwd username\n",
    "\n",
    "```"
   ]
  },
  {
   "cell_type": "markdown",
   "id": "aa3f5b9d-38d6-4197-a602-daaa1d948d0d",
   "metadata": {},
   "source": [
    "## User and Group Files"
   ]
  },
  {
   "cell_type": "markdown",
   "id": "b30394ae-5fda-4eda-9098-f58e4165b59f",
   "metadata": {},
   "source": [
    "- /etc/passwd:\n",
    "  - This file contains basic information about all user accounts, including the username, UID (User ID), GID (Group ID), home directory, and shell.\n",
    "  - Each line represents a user, with fields separated by colons.\n",
    "\n",
    "- /etc/shadow:\n",
    "  - This file stores secure password information, including the hashed passwords and password expiration data.\n",
    "  - It is only readable by the root user for security purposes.\n",
    "\n",
    "- etc/group:\n",
    "  - This file lists all groups on the system and the users belonging to each group.\n",
    "  - Similar to /etc/passwd, each line represents a group, with fields separated by colons."
   ]
  },
  {
   "cell_type": "markdown",
   "id": "05b04be3-46c6-4cf1-98ad-78bf85c69a40",
   "metadata": {},
   "source": [
    "## User IDs and Group IDs"
   ]
  },
  {
   "cell_type": "markdown",
   "id": "f2c374a8-a921-4e37-b466-e266c1869c36",
   "metadata": {},
   "source": [
    "- UID (User ID):\n",
    "  - A unique number assigned to each user.\n",
    "  - The root user typically has a UID of 0.\n",
    "  - Regular users usually have UIDs starting from 1000 (depending on the distribution).\n",
    "\n",
    "- GID (Group ID):\n",
    "  - A unique number assigned to each group.\n",
    "  - The root group typically has a GID of 0.\n",
    "  - Like UIDs, system and service accounts usually have lower GIDs, while regular user groups start from 1000."
   ]
  },
  {
   "cell_type": "markdown",
   "id": "d3846dcb-cab5-4978-b451-6a85399a543d",
   "metadata": {},
   "source": [
    "## Groups in Linux"
   ]
  },
  {
   "cell_type": "markdown",
   "id": "c1c90850-4e92-4e2d-a93e-d7df6643fac6",
   "metadata": {},
   "source": [
    "- Primary and Secondary Groups:\n",
    "  - Each user belongs to a primary group, which is usually created with the same name as the user.\n",
    "  - Users can also belong to secondary groups, which grant additional permissions."
   ]
  },
  {
   "cell_type": "markdown",
   "id": "36435c8a-2ac7-4552-be18-e0925e668e01",
   "metadata": {},
   "source": [
    "### Managing Groups:"
   ]
  },
  {
   "cell_type": "markdown",
   "id": "a4765362-3941-4317-9067-8950ec34c2b6",
   "metadata": {},
   "source": [
    "  - Creating a Group:\n",
    "```sh\n",
    "sudo groupadd groupname\n",
    "\n",
    "```\n",
    "  - Adding a User to a Group\n",
    "```sh\n",
    "sudo usermod -aG groupname username\n",
    "```\n",
    "\n",
    "  - Deleting a Group\n",
    "```sh\n",
    "sudo groupdel groupname\n",
    "\n",
    "```"
   ]
  },
  {
   "cell_type": "markdown",
   "id": "a079e08a-c4c5-4635-baef-958737f1ca10",
   "metadata": {},
   "source": [
    "### Listing Groups\n",
    "\n",
    "> To see the groups a user belongs to, use the `groups` command"
   ]
  },
  {
   "cell_type": "markdown",
   "id": "7f6bb2a4-73ab-460b-ba2c-432f9e537d49",
   "metadata": {},
   "source": [
    "```sh\n",
    "groups username\n",
    "\n",
    "```"
   ]
  },
  {
   "cell_type": "markdown",
   "id": "13739efd-12df-498e-85f5-58212d2f8dbb",
   "metadata": {},
   "source": [
    "## File Permissions"
   ]
  },
  {
   "cell_type": "markdown",
   "id": "d01eea4e-0bb8-4f26-9289-fde464d8d583",
   "metadata": {},
   "source": [
    "### Understanding File Permissions:"
   ]
  },
  {
   "cell_type": "markdown",
   "id": "fa29781d-8d74-43f5-bea9-98502ee79a77",
   "metadata": {},
   "source": [
    "- Each file and directory has permissions set for three categories: owner, group, and others\n",
    "- Permissions are represented as r (read), w (write), and x (execute).\n",
    "- Example:\n",
    "```sh\n",
    "-rwxr-xr--\n",
    "```\n",
    "- In this example:\n",
    "  - `rwx` is the permission for the owner (read, write, execute).\n",
    "  - `r-x` is the permission for the group (read, execute).\n",
    "  - `r--` is the permission for others (read only)."
   ]
  },
  {
   "cell_type": "markdown",
   "id": "a2e8cb03-c039-4c33-b45b-71163592ed50",
   "metadata": {},
   "source": [
    "### Changing File Permissions:"
   ]
  },
  {
   "cell_type": "markdown",
   "id": "b9c99b49-f889-41ef-b434-3f1045858657",
   "metadata": {},
   "source": [
    "- Use the chmod command to change permissions.\n",
    "- Numeric representation:\n",
    "  - 4: read (r)\n",
    "  - 2: write (w)\n",
    "  - 1: execute (x)\n",
    "```sh\n",
    "chmod 755 filename\n",
    "```"
   ]
  },
  {
   "cell_type": "markdown",
   "id": "96619a7a-2760-4b8a-bb33-78736c44dc2c",
   "metadata": {},
   "source": [
    "### Changing File Ownership:"
   ]
  },
  {
   "cell_type": "markdown",
   "id": "eb121774-5792-4b98-a880-44dddd4ef45e",
   "metadata": {},
   "source": [
    "- The chown command is used to change the owner or group of a file.\n",
    "- Example:\n",
    "```sh\n",
    "sudo chown username:groupname filename\n",
    "```"
   ]
  },
  {
   "cell_type": "markdown",
   "id": "c87c545a-0345-45e3-b6d0-1c8da3643a43",
   "metadata": {},
   "source": [
    "## Switching Users"
   ]
  },
  {
   "cell_type": "markdown",
   "id": "4debbb0c-7dfc-44d3-98e2-de7c26405618",
   "metadata": {},
   "source": [
    "### su (Substitute User):"
   ]
  },
  {
   "cell_type": "markdown",
   "id": "d189d22c-2878-4479-94a1-5144a8202cf8",
   "metadata": {},
   "source": [
    "- The `su` command allows you to switch to another user account.\n",
    "- Example:\n",
    "```sh\n",
    "su - username\n",
    "su -        # Switches to the root user\n",
    "```\n",
    "- The `-` option ensures that the environment is set up as if the user had logged in directly"
   ]
  },
  {
   "cell_type": "markdown",
   "id": "49cb51da-096e-4281-ad5c-f0e84058c239",
   "metadata": {},
   "source": [
    "### sudo (Superuser Do):"
   ]
  },
  {
   "cell_type": "markdown",
   "id": "87e5f330-7bf8-46ae-9f8f-6f3456c14e53",
   "metadata": {},
   "source": [
    "- The `sudo` command allows a permitted user to execute a command as the superuser or another user, as specified in the `/etc/sudoers` file.\n",
    "- Example:\n",
    "\n",
    "```sh\n",
    "sudo command\n",
    "sudo -u username command\n",
    "\n",
    "```"
   ]
  },
  {
   "cell_type": "markdown",
   "id": "010a7b26-aad6-4652-8300-1a8de686f68b",
   "metadata": {},
   "source": [
    "### Sudoers File:"
   ]
  },
  {
   "cell_type": "markdown",
   "id": "7da46f1d-e45c-4653-b648-32ceeb4f70fd",
   "metadata": {},
   "source": [
    "- The `/etc/sudoers` file controls which users have sudo privileges.\n",
    "- Use the `visudo` command to edit the sudoers file safely."
   ]
  },
  {
   "cell_type": "markdown",
   "id": "6071076c-c2e7-4553-947d-46b01199f13a",
   "metadata": {},
   "source": [
    "## User Environment"
   ]
  },
  {
   "cell_type": "markdown",
   "id": "0445b2a2-5980-465c-9de5-5375236909d9",
   "metadata": {},
   "source": [
    "- Home Directory:\n",
    "  - A user's personal space for storing files and configurations.\n",
    "  - Located at `/home/username` for regular users and `/root` for the root user.\n",
    "\n",
    "- Shell:\n",
    "  - The command-line interface that users interact with, typically `bash`, `sh`, or `zsh`.\n",
    "  - The default shell is specified in the `/etc/passwd` file.\n",
    "\n",
    "- Environment Variables:\n",
    "  - Variables that control the behavior of the user's environment (e.g., `PATH`, `HOME`, `USER`).\n",
    "  - Can be configured in files like `.bashrc`, `.bash_profile`, `.profile`, etc."
   ]
  },
  {
   "cell_type": "markdown",
   "id": "ca25f411-acc2-483b-abcf-a3738ef11e33",
   "metadata": {},
   "source": [
    "## User Session Management"
   ]
  },
  {
   "cell_type": "markdown",
   "id": "58dbd77a-e74e-428e-9358-f18ad7b9f8ea",
   "metadata": {},
   "source": [
    "- `who` Command: Displays who is currently logged into the system.\n",
    "- `w` Command: Shows who is logged in and what they are doing.\n",
    "- `last` Command: Displays the last login history of users.\n",
    "- `kill` Command: Use the kill command to terminate a user's session or specific processes."
   ]
  },
  {
   "cell_type": "markdown",
   "id": "65347c71-7f8c-4af7-8c93-cb770c2ce30b",
   "metadata": {},
   "source": [
    "## Security Considerations"
   ]
  },
  {
   "cell_type": "markdown",
   "id": "b2f54b17-de54-4eb8-a904-240306f2f039",
   "metadata": {},
   "source": [
    "- Password Policies:\n",
    "  - Enforce strong passwords using tools like `pam_pwquality`.\n",
    "  - Set password expiration and aging policies to ensure regular password changes.\n",
    "\n",
    "- Restricting Root Access:\n",
    "  - Disable root login over SSH by setting `PermitRootLogin no` in `/etc/ssh/sshd_config`.\n",
    "  - Use `sudo` instead of direct root access for better security.\n",
    "\n",
    "- Monitoring and Auditing:\n",
    "  - Monitor user activities by examining logs in `/var/log/` (e.g., `auth.log`, `secure`).\n",
    "  - Use tools like `auditd` to track system events and user actions."
   ]
  },
  {
   "cell_type": "code",
   "execution_count": null,
   "id": "dd522cd6-c30e-4838-a2d9-034fabf1c50d",
   "metadata": {},
   "outputs": [],
   "source": [
    "!"
   ]
  }
 ],
 "metadata": {
  "kernelspec": {
   "display_name": "python3",
   "language": "python",
   "name": "python3"
  }
 },
 "nbformat": 4,
 "nbformat_minor": 5
}
