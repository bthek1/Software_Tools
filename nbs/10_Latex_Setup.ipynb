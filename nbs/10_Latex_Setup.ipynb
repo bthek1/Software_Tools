{
 "cells": [
  {
   "cell_type": "markdown",
   "id": "5a781e94-a176-4a83-af67-174dfb74244b",
   "metadata": {},
   "source": [
    "# Latex\n",
    "\n",
    "> Latex\n",
    "\n",
    " \n",
    "- skip_showdoc: true\n",
    "- skip_exec: true"
   ]
  },
  {
   "cell_type": "code",
   "execution_count": null,
   "id": "0eff3b9f-4842-4377-8557-86c060600080",
   "metadata": {},
   "outputs": [],
   "source": [
    "#| default_exp latex"
   ]
  },
  {
   "cell_type": "markdown",
   "id": "b360c831-8f1f-42f4-86c3-c182aaada7c3",
   "metadata": {},
   "source": [
    "## Installation"
   ]
  },
  {
   "cell_type": "markdown",
   "id": "00e41d4e-ddbd-401e-bb8f-1b4d6d4b1379",
   "metadata": {},
   "source": [
    "``` bash\n",
    "sudo apt update\n",
    "sudo apt install texlive-full\n",
    "\n",
    "```"
   ]
  },
  {
   "cell_type": "markdown",
   "id": "b7d4119c-90ec-4595-b4eb-722f3b0c680b",
   "metadata": {},
   "source": [
    "``` bash\n",
    "sudo apt install texlive-latex-extra biber\n",
    "\n",
    "\n",
    "```"
   ]
  },
  {
   "cell_type": "markdown",
   "id": "b76771b6-d65a-4e08-a7dc-1ba019b2f579",
   "metadata": {},
   "source": [
    "** Thats all you need**\n"
   ]
  },
  {
   "cell_type": "markdown",
   "id": "5cf44388-4989-42d0-90e2-893d514dce42",
   "metadata": {},
   "source": [
    "### Additional Tools"
   ]
  },
  {
   "cell_type": "markdown",
   "id": "c1efaecf-7cd0-43d3-947a-b47552c31fb9",
   "metadata": {},
   "source": [
    "Texmaker: A popular LaTeX editor.\n",
    "``` bash\n",
    "sudo apt install texmaker\n",
    "```"
   ]
  },
  {
   "cell_type": "markdown",
   "id": "067f7aec-174d-497f-9312-f972fb08845b",
   "metadata": {},
   "source": [
    "Pandoc: A universal document converter.\n",
    "``` bash\n",
    "sudo apt install pandoc\n",
    "```"
   ]
  }
 ],
 "metadata": {
  "kernelspec": {
   "display_name": "python3",
   "language": "python",
   "name": "python3"
  },
  "widgets": {
   "application/vnd.jupyter.widget-state+json": {
    "state": {},
    "version_major": 2,
    "version_minor": 0
   }
  }
 },
 "nbformat": 4,
 "nbformat_minor": 5
}
