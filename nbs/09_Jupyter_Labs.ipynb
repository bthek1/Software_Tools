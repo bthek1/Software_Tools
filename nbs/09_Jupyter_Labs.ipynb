{
 "cells": [
  {
   "cell_type": "markdown",
   "id": "9a9c7e72-fbae-4ea7-99ad-0f447c2365ab",
   "metadata": {},
   "source": [
    "# Jupyter Labs\n",
    "\n",
    "> Jupyter labs\n",
    "\n",
    "- skip_showdoc: true\n",
    "- skip_exec: true"
   ]
  },
  {
   "cell_type": "code",
   "execution_count": null,
   "id": "0d3d8c13-7c57-4dd7-ad5a-6fd5c5274d91",
   "metadata": {},
   "outputs": [],
   "source": [
    "from jupyter_server.auth import passwd"
   ]
  },
  {
   "cell_type": "code",
   "execution_count": null,
   "id": "cf73e665-c4d5-4290-8d0a-c09474f4f224",
   "metadata": {},
   "outputs": [
    {
     "name": "stdin",
     "output_type": "stream",
     "text": [
      "Enter password:  ········\n",
      "Verify password:  ········\n"
     ]
    },
    {
     "name": "stdout",
     "output_type": "stream",
     "text": [
      "argon2:$argon2id$v=19$m=10240,t=10,p=8$75Q7uCcjzIK2HqrZKSvo7g$y8eYdSDFeAEAZW0S74A/q/+nSMq3CAIl4hSBpdgkSVg\n"
     ]
    }
   ],
   "source": [
    "print(passwd())"
   ]
  },
  {
   "cell_type": "markdown",
   "id": "a0adf046-646e-4f81-902a-726bc805825a",
   "metadata": {},
   "source": [
    "## jupyter_notebook_config.py\n"
   ]
  },
  {
   "cell_type": "markdown",
   "id": "5d50c4c9-7737-4e96-8616-c9bc05c3fea4",
   "metadata": {},
   "source": [
    "```python\n",
    "c = get_config()  # noqa\n",
    "\n",
    "#------------------------------------------------------------------------------\n",
    "# Application Configuration\n",
    "#------------------------------------------------------------------------------\n",
    "## Logging configuration\n",
    "c.Application.log_datefmt = '%Y-%m-%d %H:%M:%S'\n",
    "c.Application.log_format = '[%(name)s]%(highlevel)s %(message)s'\n",
    "c.Application.log_level = 'INFO'\n",
    "\n",
    "#------------------------------------------------------------------------------\n",
    "# Jupyter Server Configuration\n",
    "#------------------------------------------------------------------------------\n",
    "## General settings\n",
    "c.ServerApp.ip = '0.0.0.0'  # Allow connections from all network interfaces\n",
    "c.ServerApp.port = 8888  # Port to serve Jupyter Lab\n",
    "c.ServerApp.open_browser = False  # Do not open a browser on server start\n",
    "c.ServerApp.allow_root = True  # Allow running as root (if needed)\n",
    "c.ServerApp.base_url = '/'  # Base URL for Jupyter Lab\n",
    "c.ServerApp.trust_xheaders = True  # Support reverse proxies (e.g., Nginx)\n",
    "\n",
    "## Security settings\n",
    "c.ServerApp.token = ''  # Disable token-based authentication\n",
    "c.ServerApp.password = 'sha1:<your-secure-password-hash>'  # Set hashed password\n",
    "c.ServerApp.password_required = True  # Require a password\n",
    "c.ServerApp.disable_check_xsrf = False  # Prevent cross-site request forgery\n",
    "\n",
    "## SSL Configuration (optional)\n",
    "# c.ServerApp.certfile = '/path/to/ssl/certfile.pem'\n",
    "# c.ServerApp.keyfile = '/path/to/ssl/keyfile.pem'\n",
    "\n",
    "## Performance tuning\n",
    "c.ServerApp.max_body_size = 536870912  # Set maximum client request body size\n",
    "c.ServerApp.max_buffer_size = 536870912  # Set buffer size\n",
    "\n",
    "## Logging to a file\n",
    "c.Application.logging_config = {\n",
    "    \"version\": 1,\n",
    "    \"handlers\": {\n",
    "        \"file\": {\n",
    "            \"class\": \"logging.FileHandler\",\n",
    "            \"filename\": \"/home/<your-username>/Documents/jupyter_lab.log\",\n",
    "            \"level\": \"INFO\",\n",
    "            \"formatter\": \"default\",\n",
    "        },\n",
    "    },\n",
    "    \"formatters\": {\n",
    "        \"default\": {\n",
    "            \"format\": \"[%(name)s]%(highlevel)s %(message)s\",\n",
    "            \"datefmt\": \"%Y-%m-%d %H:%M:%S\",\n",
    "        },\n",
    "    },\n",
    "    \"root\": {\n",
    "        \"handlers\": [\"file\"],\n",
    "        \"level\": \"INFO\",\n",
    "    },\n",
    "}\n",
    "\n",
    "#------------------------------------------------------------------------------\n",
    "# Jupyter Lab Configuration\n",
    "#------------------------------------------------------------------------------\n",
    "## Default application and URL\n",
    "c.ServerApp.default_url = '/lab'  # Redirect to Jupyter Lab on start\n",
    "\n",
    "## Work directory\n",
    "c.ServerApp.root_dir = '/home/<your-username>/Documents/Knowledge'  # Set root directory for Jupyter Lab\n",
    "\n",
    "## Terminals\n",
    "c.ServerApp.terminals_enabled = True  # Enable terminal in Jupyter Lab\n",
    "\n",
    "#------------------------------------------------------------------------------\n",
    "# Extension Configuration\n",
    "#------------------------------------------------------------------------------\n",
    "## Example: Enabling an extension\n",
    "# c.ServerApp.jpserver_extensions = {\n",
    "#     \"jupyterlab_code_formatter\": True,\n",
    "# }\n",
    "\n",
    "#------------------------------------------------------------------------------\n",
    "# Advanced Configuration\n",
    "#------------------------------------------------------------------------------\n",
    "## Kernel Management\n",
    "c.ServerApp.kernel_manager_class = 'jupyter_server.services.kernels.kernelmanager.MappingKernelManager'\n",
    "c.ServerApp.kernel_spec_manager_class = 'jupyter_client.kernelspec.KernelSpecManager'\n",
    "\n",
    "## Federated extensions (optional)\n",
    "# c.LabServerApp.extra_labextensions_path = ['/path/to/extensions']\n",
    "# c.LabServerApp.labextensions_path = ['/path/to/extensions']\n",
    "```"
   ]
  },
  {
   "cell_type": "markdown",
   "id": "36b8ccaf-66c7-48f9-b7eb-ba0e9bae8239",
   "metadata": {},
   "source": [
    "## jupyter_server_config.json"
   ]
  },
  {
   "cell_type": "markdown",
   "id": "3100a2a2-c15c-4464-ac55-c5cb15d7c7ef",
   "metadata": {},
   "source": [
    "```json\n",
    "{\n",
    "  \"ServerApp\": {\n",
    "    \"password\": \"argon2:$argon2id$v=19$m=10240,t=10,p=8$75Q7uCcjzIK2HqrZKSvo7g$y8eYdSDFeAEAZW0S74A/q/+nSMq3CAIl4hSBpdgkSVg\"\n",
    "  }\n",
    "}\n",
    "```"
   ]
  },
  {
   "cell_type": "code",
   "execution_count": null,
   "id": "6646f563-4331-4d63-ae55-62066b1dc238",
   "metadata": {},
   "outputs": [],
   "source": []
  }
 ],
 "metadata": {
  "kernelspec": {
   "display_name": "python3",
   "language": "python",
   "name": "python3"
  }
 },
 "nbformat": 4,
 "nbformat_minor": 5
}
