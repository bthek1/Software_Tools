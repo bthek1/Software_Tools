{
 "cells": [
  {
   "cell_type": "markdown",
   "id": "9478a5df-ca09-47a5-b81c-6e622c335072",
   "metadata": {},
   "source": [
    "# Proxmox\n",
    "\n",
    "> Proxmox Virtual Environment (Proxmox VE) is a powerful, open-source platform for managing virtual machines (VMs) and containers. It integrates enterprise-class features with ease of use, making it an excellent choice for virtualization. Here’s an all-in-one guide to help you understand and get started with Proxmox.\n",
    "\n",
    "- skip_showdoc: true\n",
    "- skip_exec: true"
   ]
  },
  {
   "cell_type": "markdown",
   "id": "07e7e0ed-ee73-46dd-a14f-8e4b6b5c1eb7",
   "metadata": {},
   "source": [
    "- Proxmox\n",
    "  - jupyter docker\n",
    "  - windows\n",
    "  - ubuntu\n",
    "  - pihole\n",
    "  - home assistant\n",
    "  - NAS - trueNAS\n",
    "  - prometheous and grafana\n",
    "  - blueiris -  camera\n",
    " - gpu hdmi pass through for ubuntu"
   ]
  },
  {
   "cell_type": "markdown",
   "id": "1f58d3c3-b8f2-480a-ac3d-16df651d9378",
   "metadata": {},
   "source": [
    "[proxmox setup helper](https://www.youtube.com/watch?v=GoZaMgEgrHw)"
   ]
  },
  {
   "cell_type": "markdown",
   "id": "a167a00e-69ec-489c-ba0e-96000d39b34a",
   "metadata": {},
   "source": [
    "## **What is Proxmox?**\n",
    "- **Type 1 Hypervisor**: Runs directly on hardware for better performance.\n",
    "- **Based on Debian**: Uses a Linux kernel with KVM (Kernel-based Virtual Machine) and LXC (Linux Containers) for virtualization.\n",
    "- **Web-Based Management**: Administer everything through an intuitive web interface.\n",
    "- **Free & Open Source**: Enterprise features available for free; optional support subscription for updates."
   ]
  },
  {
   "cell_type": "markdown",
   "id": "e1ecbf4b-867d-4a39-b1b4-fa7dfe95daa5",
   "metadata": {},
   "source": [
    "## **Key Features**\n",
    "1. **Virtualization Options**:\n",
    "   - **KVM**: Full virtualization for running any operating system.\n",
    "   - **LXC**: Lightweight containers for running Linux-based applications.\n",
    "2. **High Availability (HA)**:\n",
    "   - Create clusters with multiple nodes for redundancy and failover.\n",
    "3. **Backup and Restore**:\n",
    "   - Built-in backup solutions (full and incremental backups).\n",
    "   - Supports external storage for backups.\n",
    "4. **Storage Options**:\n",
    "   - Local storage, NFS, iSCSI, Ceph, or ZFS file systems.\n",
    "5. **Networking**:\n",
    "   - Virtual networking with VLAN support and bonding.\n",
    "   - Bridged networking for external connectivity.\n",
    "6. **Proxmox VE Cluster**:\n",
    "   - Manage multiple nodes from a single interface.\n",
    "7. **Integrated Web Interface**:\n",
    "   - Manage VMs, storage, networking, and clusters through a single dashboard.\n",
    "8. **Flexible Storage**:\n",
    "   - Mix and match storage technologies (ZFS, Ceph, local disks, etc.).\n",
    "9. **Live Migration**:\n",
    "   - Move running VMs between nodes without downtime.\n",
    "10. **Support for Templates and Clones**:\n",
    "    - Easily deploy new VMs from existing templates."
   ]
  },
  {
   "cell_type": "markdown",
   "id": "3acda67e-e9f9-48f9-bcbb-618d15bbdf59",
   "metadata": {},
   "source": [
    "## **System Requirements**\n",
    "- **CPU**: 64-bit processor with virtualization support (Intel VT-x or AMD-V).\n",
    "- **RAM**: Minimum 2 GB (8 GB or more recommended for multiple VMs).\n",
    "- **Storage**: SSDs recommended for faster I/O.\n",
    "- **Network**: At least 1 Gbps for high-performance clusters."
   ]
  },
  {
   "cell_type": "markdown",
   "id": "94fd3f45-87a5-48e9-b005-de3efa340ab1",
   "metadata": {},
   "source": [
    "## **Getting Started**"
   ]
  },
  {
   "cell_type": "markdown",
   "id": "f14de102-1fd3-4c82-be9e-4ae553fb1c21",
   "metadata": {},
   "source": [
    "- agree to end user license\n",
    "\n",
    "- Target Harddisk: choose /dev/nvme0n1, ext4\n",
    "\n",
    "- Location and Time Zone selection: Country: Australia, Time Zone: Australia/Brisbane, Keyboard Layout: U.S. English\n",
    "\n",
    "- Password:\n",
    "    - bthek1 login: root\n",
    "    - password: YME (classic)\n",
    " \n",
    "- Management Network Configuration\n",
    "  - Managemen Interface: eno1\n",
    "    - eno1, eno2, etc. (on-board devices)\n",
    "    - enp10s0, enp3s0, etc. (PCI devices)\n",
    "    - wlp3s0 (wireless card on PCI), etc.\n",
    "   \n",
    "  - Hostname (FQDN): bthek1.thekkel.com\n",
    "  - IP: 192.168.2.70/24\n",
    "  - Gateway: 192.168.2.1\n",
    "  - DNS: 127.0.0.1"
   ]
  },
  {
   "cell_type": "markdown",
   "id": "6aa729e4-cf74-49c2-9d39-6535d041ac14",
   "metadata": {},
   "source": [
    "## Storage and Paritioners in Proxmox"
   ]
  },
  {
   "cell_type": "markdown",
   "id": "216f0c92-688f-4f6b-80ab-41b4f2bf439d",
   "metadata": {},
   "source": [
    "```bash\n",
    "lsblk -o NAME,FSTYPE,SIZE,MOUNTPOINT,TYPE\n",
    "\n",
    "NAME               FSTYPE        SIZE MOUNTPOINT TYPE\n",
    "sda                            111.8G            disk\n",
    "nvme0n1                        931.5G            disk\n",
    "├─nvme0n1p1                     1007K            part\n",
    "├─nvme0n1p2        vfat            1G /boot/efi  part\n",
    "└─nvme0n1p3        LVM2_member 930.5G            part\n",
    "  ├─pve-swap       swap            8G [SWAP]     lvm\n",
    "  ├─pve-root       ext4           96G /          lvm\n",
    "  ├─pve-data_tmeta               8.1G            lvm\n",
    "  │ └─pve-data                 794.3G            lvm\n",
    "  └─pve-data_tdata             794.3G            lvm\n",
    "    └─pve-data                 794.3G            lvm\n",
    "\n",
    "\n",
    "```\n",
    "\n",
    "- /boot/efi is your EFI partition for system boot.\n",
    "- pve is the Proxmox volume group on the NVMe drive.\n",
    "- pve-root (ext4) is your main OS partition mounted at /.\n",
    "- pve-data (thin pool) is for VM/container storage.\n",
    "- pve-swap is your swap space.\n",
    "- /dev/sda is unpartitioned/unused in this listing, so it’s effectively free if you want to set it up for additional storage."
   ]
  },
  {
   "cell_type": "markdown",
   "id": "3faf91b6-3988-4461-8120-8f47a8180c53",
   "metadata": {},
   "source": [
    "## Adding User in Proxmox"
   ]
  },
  {
   "cell_type": "markdown",
   "id": "8dffaa77-4a41-43a0-b9f0-148e03d70752",
   "metadata": {},
   "source": [
    "\n",
    "#### 1. Create the User Account\n",
    "\n",
    "1. **SSH into your Proxmox host** as `root` or log in via console.\n",
    "\n",
    "2. **Create a new user** (replace `ben` with the desired username):\n",
    "   ```bash\n",
    "   adduser ben\n",
    "   ```\n",
    "   - You’ll be prompted to set a password and (optionally) fill in some personal info.\n",
    "\n",
    "3. *(Optional)* **Give the user sudo privileges** (if you want them to be able to run administrative commands):\n",
    "\n",
    "   - Install `sudo` if it’s not already installed:\n",
    "     ```bash\n",
    "     apt update\n",
    "     apt install sudo\n",
    "     ```\n",
    "   - Add the user to the `sudo` group:\n",
    "     ```bash\n",
    "     usermod -aG sudo ben\n",
    "     ```\n",
    "   - Now, user `ben` can run `sudo <command>` when necessary.\n",
    "\n",
    "---\n",
    "\n",
    "#### 2. Configure SSH Key-Based Authentication (Recommended)\n",
    "\n",
    "Using SSH keys is more secure than a password-based login. Here are the steps:\n",
    "\n",
    "1. **Generate an SSH key pair** (on your local machine **not** on Proxmox) if you don’t already have one:\n",
    "\n",
    "   ```bash\n",
    "   ssh-keygen -t ed25519\n",
    "   ```\n",
    "   or  \n",
    "   ```bash\n",
    "   ssh-keygen -t rsa -b 4096\n",
    "   ```\n",
    "   - Press **Enter** to accept the default file location (e.g., `~/.ssh/id_ed25519` or `~/.ssh/id_rsa`).  \n",
    "   - Optionally protect the key with a passphrase.\n",
    "\n",
    "2. **Copy your public key** to the Proxmox server for user `ben`:\n",
    "   ```bash\n",
    "   ssh-copy-id ben@<Proxmox_IP_Address>\n",
    "   ```\n",
    "   - If prompted for a password, provide the one you created for `ben`.\n",
    "   - This will create the `~ben/.ssh/authorized_keys` file on the server and put your public key there.\n",
    "\n",
    "   **If `ssh-copy-id` is not available**, do it manually:\n",
    "   - **On your local machine**, view your public key:\n",
    "     ```bash\n",
    "     cat ~/.ssh/id_ed25519.pub\n",
    "     ```\n",
    "   - **On Proxmox** (logged in as root, or via su - ben):\n",
    "     ```bash\n",
    "     su - ben\n",
    "     mkdir -p ~/.ssh\n",
    "     chmod 700 ~/.ssh\n",
    "     nano ~/.ssh/authorized_keys\n",
    "     ```\n",
    "     - Paste the public key line into the file.\n",
    "     - Save and exit.\n",
    "     - Set proper permissions:\n",
    "       ```bash\n",
    "       chmod 600 ~/.ssh/authorized_keys\n",
    "       ```\n",
    "\n",
    "3. **(Optional) Disable password authentication** for extra security:\n",
    "   - Edit `/etc/ssh/sshd_config`:\n",
    "     ```bash\n",
    "     nano /etc/ssh/sshd_config\n",
    "     ```\n",
    "   - Find (or add) and set:\n",
    "     ```\n",
    "     PasswordAuthentication no\n",
    "     ChallengeResponseAuthentication no\n",
    "     UsePAM yes\n",
    "     ```\n",
    "   - Make sure key-based auth is on:\n",
    "     ```\n",
    "     PubkeyAuthentication yes\n",
    "     ```\n",
    "   - Restart SSH:\n",
    "     ```bash\n",
    "     systemctl restart ssh\n",
    "     ```\n",
    "   - **Important**: Only do this **after** confirming key-based login works, or you might lock yourself out if something is misconfigured.\n",
    "\n",
    "---\n",
    "\n",
    "#### 3. Test the New User’s SSH Login\n",
    "\n",
    "1. **From your local machine**, attempt to SSH in:\n",
    "   ```bash\n",
    "   ssh ben@<Proxmox_IP_Address>\n",
    "   ```\n",
    "2. If you used key-based auth, you should not be asked for a password (or only for the passphrase of your SSH key if you set one).  \n",
    "3. If you didn’t disable password authentication, you can also login with `ben`’s password.\n",
    "\n",
    "---\n",
    "\n",
    "#### 4. Verify Sudo (Optional)\n",
    "\n",
    "If you added `ben` to the `sudo` group, verify you can run administrative commands:\n",
    "\n",
    "```bash\n",
    "sudo apt update\n",
    "```\n",
    "\n",
    "- Enter `ben`’s password if prompted (for the sudo prompt).\n",
    "\n",
    "---\n",
    "\n",
    "##### Summary\n",
    "\n",
    "1. **Create user**: `adduser ben`  \n",
    "2. **(Optional) Add to sudo**: `usermod -aG sudo ben`  \n",
    "3. **Setup SSH**:\n",
    "   - Generate SSH keys on **local** machine: `ssh-keygen`  \n",
    "   - Copy the public key to the Proxmox server: `ssh-copy-id ben@<Proxmox_IP>`  \n",
    "   - *(Optionally)* Disable password auth in `/etc/ssh/sshd_config` for enhanced security.  \n",
    "4. **Test**: `ssh ben@<Proxmox_IP>`  \n"
   ]
  },
  {
   "cell_type": "markdown",
   "id": "0627bd38-800c-4588-b5c9-33bf01020b38",
   "metadata": {},
   "source": [
    "## **Using Proxmox**\n",
    "#### 1. **Creating VMs**\n",
    "- In the web interface, navigate to **Create VM**.\n",
    "- Configure resources:\n",
    "  - CPU, RAM, storage, and network interfaces.\n",
    "- Install the operating system from an ISO image.\n",
    "\n",
    "\n",
    "Example Configuration for a Modern VM\n",
    "\n",
    "    Graphics Card: VirtIO GPU (or PCI Passthrough for gaming).\n",
    "    SCSI Controller: VirtIO SCSI.\n",
    "    Machine Type: q35.\n",
    "    BIOS: OVMF (UEFI).\n",
    "    QEMU Agent: Enabled.\n",
    "    TPM: Add TPM 2.0 for Windows 11 or enhanced security needs.\n",
    "\n",
    "\n",
    "    \n",
    "#### 2. **Using Containers (LXC)**\n",
    "- Navigate to **Create CT** for creating lightweight Linux containers.\n",
    "- Select the Linux distribution template and configure resources.\n",
    "\n",
    "#### 3. **Storage Management**\n",
    "- Add storage under **Datacenter > Storage**:\n",
    "  - Local disks, shared storage (NFS/iSCSI), or distributed storage (Ceph, ZFS).\n",
    "\n",
    "#### 4. **Backup and Restore**\n",
    "- Set up backup jobs for VMs and containers.\n",
    "- Backups can be stored locally or on external storage.\n",
    "\n",
    "#### 5. **Networking**\n",
    "- Configure virtual bridges under **Datacenter > Network**.\n",
    "- Use VLANs for isolated networks or create NAT for external access.\n",
    "\n",
    "#### 6. **Clustering**\n",
    "- Add nodes to a cluster for centralized management:\n",
    "  - Run `pvecm add <IP_ADDRESS>` on new nodes.\n",
    "- Ensure consistent storage and networking configuration across nodes."
   ]
  },
  {
   "cell_type": "markdown",
   "id": "d630ed40-0c9b-4181-932e-501e711cf659",
   "metadata": {},
   "source": [
    "## Adding GPU"
   ]
  },
  {
   "cell_type": "markdown",
   "id": "85b2ee15-1096-466e-9158-1bb583d19c93",
   "metadata": {},
   "source": [
    "use display: none\n",
    "\n",
    "```\n",
    "sudo apt install qemu-guest-agent\n",
    "```"
   ]
  },
  {
   "cell_type": "markdown",
   "id": "04c8b676-0d77-41ba-a90e-0dcfeaa53cf0",
   "metadata": {},
   "source": [
    "```sh\n",
    "sudo add-apt-repository ppa:graphics-drivers/ppa\n",
    "sudo apt update\n",
    "\n",
    "\n",
    "ubuntu-drivers devices\n",
    "\n",
    "apt search nvidia-driver\n",
    "\n",
    "sudo apt install nvidia-driver-560\n",
    "```"
   ]
  },
  {
   "cell_type": "markdown",
   "id": "c439c901-c659-474b-9b49-0dbebc0c4264",
   "metadata": {},
   "source": [
    "## Cloud init"
   ]
  },
  {
   "cell_type": "markdown",
   "id": "e6e4d6f2-53a3-476d-afe8-297e0d75ff4d",
   "metadata": {},
   "source": [
    "```bash\n",
    "sudo apt install cloud-init\n",
    "```"
   ]
  },
  {
   "cell_type": "markdown",
   "id": "14495010-9553-4d2f-80a4-7d91cff9e514",
   "metadata": {},
   "source": [
    "## Getting devices"
   ]
  },
  {
   "cell_type": "markdown",
   "id": "1596a91e-a298-464f-a5d4-368006e2651a",
   "metadata": {},
   "source": [
    "### Getting USB ports\n",
    "```sh\n",
    "lspci | grep -i usb\n",
    "```\n",
    "\n",
    "### Getting Audio ports\n",
    "```sh\n",
    "lspci | grep -i audio\n",
    "```"
   ]
  },
  {
   "cell_type": "markdown",
   "id": "cc081517-19ae-49e9-a645-83d5d1374321",
   "metadata": {},
   "source": [
    "## **Advanced Features**\n",
    "#### 1. **Proxmox VE Cluster**\n",
    "- High availability across nodes.\n",
    "- Shared storage (Ceph or NFS) is recommended for live migration.\n",
    "  \n",
    "#### 2. **ZFS Integration**\n",
    "- Proxmox includes ZFS for advanced storage management:\n",
    "  - Snapshots, compression, and RAID-like redundancy.\n",
    "\n",
    "#### 3. **Ceph Storage**\n",
    "- Use Ceph for scalable, distributed storage:\n",
    "  - Install Ceph packages and create a Ceph cluster.\n",
    "\n",
    "#### 4. **PCI Passthrough**\n",
    "- Pass hardware devices directly to a VM for bare-metal performance.\n",
    "- Requires a CPU with IOMMU support (Intel VT-d/AMD-Vi).\n",
    "\n",
    "#### 5. **Cloud-Init**\n",
    "- Automate VM deployment with preconfigured settings (e.g., hostname, networking)."
   ]
  },
  {
   "cell_type": "markdown",
   "id": "8f072189-bae8-41f0-84fb-11a824b0fb27",
   "metadata": {},
   "source": [
    "## **Maintenance**\n",
    "- **Updates**:\n",
    "  - Regularly update Proxmox (`apt update && apt upgrade`) for security and feature improvements.\n",
    "- **Subscriptions**:\n",
    "  - Optional enterprise subscription for support and access to stable update repositories.\n",
    "  - Free repositories are available but may include testing features.\n",
    "- **Logs**:\n",
    "  - Monitor logs under **Syslog** for troubleshooting."
   ]
  },
  {
   "cell_type": "markdown",
   "id": "afb2ad22-0f04-4ae2-bc05-8d35f074adf4",
   "metadata": {},
   "source": [
    "## **Best Practices**\n",
    "1. **Use ZFS or Ceph** for resilient storage solutions.\n",
    "2. **Schedule Regular Backups** of all critical VMs.\n",
    "3. **Allocate Resources Wisely**:\n",
    "   - Ensure sufficient CPU and RAM are allocated to each VM or container.\n",
    "4. **Secure Proxmox**:\n",
    "   - Use strong passwords and enable two-factor authentication (2FA).\n",
    "   - Restrict web interface access to trusted IPs.\n",
    "5. **Networking**:\n",
    "   - Use VLANs for better isolation and scalability.\n",
    "6. **Monitor Performance**:\n",
    "   - Check CPU, memory, and storage usage under the **Dashboard**."
   ]
  },
  {
   "cell_type": "markdown",
   "id": "c82ea9b3-9417-41cf-9bd7-f8dae163f633",
   "metadata": {},
   "source": [
    "## **Common Issues and Troubleshooting**\n",
    "1. **VM Won’t Start**:\n",
    "   - Check if sufficient resources are available.\n",
    "   - Review logs in `/var/log/pve/tasks`.\n",
    "2. **Storage Issues**:\n",
    "   - Ensure correct permissions for shared storage.\n",
    "3. **Cluster Problems**:\n",
    "   - Use `pvecm status` to check cluster health.\n",
    "   - Sync time across nodes using `ntpd` or `chrony`."
   ]
  },
  {
   "cell_type": "code",
   "execution_count": null,
   "id": "1805ddd4-a01f-4fb5-8538-a3bca350ea69",
   "metadata": {},
   "outputs": [],
   "source": []
  }
 ],
 "metadata": {
  "kernelspec": {
   "display_name": "fast",
   "language": "python",
   "name": "fast"
  }
 },
 "nbformat": 4,
 "nbformat_minor": 5
}
