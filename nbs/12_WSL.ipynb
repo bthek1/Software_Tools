{
 "cells": [
  {
   "cell_type": "markdown",
   "id": "5a781e94-a176-4a83-af67-174dfb74244b",
   "metadata": {},
   "source": [
    "# WSL \n",
    "\n",
    "> Details on setting up WSL\n",
    "\n",
    "\n",
    "- skip_showdoc: true\n",
    "- skip_exec: true"
   ]
  },
  {
   "cell_type": "code",
   "execution_count": null,
   "id": "0eff3b9f-4842-4377-8557-86c060600080",
   "metadata": {},
   "outputs": [],
   "source": [
    "#| default_exp wsl"
   ]
  },
  {
   "cell_type": "markdown",
   "id": "2ed28576-e88b-4613-8ed1-421abc399b01",
   "metadata": {},
   "source": [
    "## Change Settings in `Turn Windows features on or off`"
   ]
  },
  {
   "cell_type": "markdown",
   "id": "489d9b33-8837-4fb8-bf70-690832332017",
   "metadata": {},
   "source": [
    "Turn on: \n",
    "- Virtual Machine Platform\n",
    "- Windows Hypervisor Platform\n",
    "- Windows Subsystem for Linux"
   ]
  },
  {
   "cell_type": "markdown",
   "id": "501e4e58-a626-4e89-bd79-f8184ea216d9",
   "metadata": {},
   "source": [
    "## Download WSL - Windows Subsystem for Linux"
   ]
  },
  {
   "cell_type": "markdown",
   "id": "d10a05ef-beb5-4750-8a18-dcc7a503398b",
   "metadata": {},
   "source": [
    "- goto powershell\n",
    "```sh\n",
    "wsl --install\n",
    "```"
   ]
  },
  {
   "cell_type": "markdown",
   "id": "53a61c7b-5d10-4b32-a466-01721177f4d6",
   "metadata": {},
   "source": [
    "If there is error with wsl\n",
    "```\n",
    "Invoke-WebRequest -UseBasicParsing \"https://raw.githubusercontent.com/microsoft/WSL/master/triage/install-latest-wsl.ps1\" -OutFile install-latest-wsl.ps1\n",
    "Set-ExecutionPolicy Bypass -Scope Process -Force\n",
    ".\\install-latest-wsl.ps1\n",
    "```"
   ]
  },
  {
   "cell_type": "markdown",
   "id": "0ae7ea3c-dd28-4fdd-a545-e7153d8518dd",
   "metadata": {},
   "source": [
    "- o see a list of available Linux distributions available for download through the online store\n",
    "```sh\n",
    "wsl -l -o\n",
    "```"
   ]
  },
  {
   "cell_type": "markdown",
   "id": "e60513fb-3d45-4c74-9758-a5a546d05bb5",
   "metadata": {},
   "source": [
    "- to download a Linux distribution\n",
    "```sh\n",
    "wsl --install -d <Distribution Name>\n",
    "```"
   ]
  },
  {
   "cell_type": "markdown",
   "id": "3e7f752e-ac54-4c69-a47e-fafff24feaed",
   "metadata": {},
   "source": [
    "- to remove a distribution\n",
    "```sh\n",
    "wsl --unregister <Distribution Name>\n",
    "```"
   ]
  },
  {
   "cell_type": "markdown",
   "id": "25336a53-b243-49b5-ba1e-aa9b233df551",
   "metadata": {},
   "source": [
    "## WSL Config Files"
   ]
  },
  {
   "attachments": {},
   "cell_type": "markdown",
   "id": "1884f021-a8fd-4fb5-80f1-7f5ff6f55b50",
   "metadata": {},
   "source": [
    "### .wslconfig\n",
    "\n",
    "> .wslconfig to configure global settings across all installed distributions running on WSL 2."
   ]
  },
  {
   "cell_type": "markdown",
   "id": "6c06f67a-a055-4105-86d4-74aed140eac1",
   "metadata": {},
   "source": [
    "```powershell\n",
    " # Settings apply across all Linux distros running on WSL 2\n",
    "[wsl2]\n",
    "\n",
    "# Limits VM memory to use no more than 4 GB, this can be set as whole numbers using GB or MB\n",
    "memory=30GB \n",
    "swap=32GB\n",
    "\n",
    "# Sets the VM to use two virtual processors\n",
    "processors=12\n",
    "\n",
    "\n",
    "networkingMode = mirrored\n",
    "# dnsProxy = false\n",
    "firewall = false\n",
    "\n",
    "\n",
    "[experimental]\n",
    "autoMemoryReclaim = dropcache\n",
    "\n",
    "```"
   ]
  },
  {
   "attachments": {},
   "cell_type": "markdown",
   "id": "b3e390cf-ad28-4fcf-9f28-edbdb78e3cff",
   "metadata": {},
   "source": [
    "### wsl.conf\n",
    "\n",
    "> wsl.conf to configure local settings per-distribution for each Linux distribution running on WSL 1 or WSL 2.\n",
    "\n",
    "> Location: /etc/wsl.conf\n",
    "\n",
    "> The wsl.conf file supports four sections: `automount`, `network`, `interop`, and `user`. "
   ]
  },
  {
   "cell_type": "code",
   "execution_count": null,
   "id": "7c1e609f-2437-4f6e-b2ad-aa7a40d8787b",
   "metadata": {},
   "outputs": [
    {
     "name": "stdout",
     "output_type": "stream",
     "text": [
      "\n",
      "[boot]\n",
      "systemd=true\n",
      "\n",
      "[network]\n",
      "# hostname = DemoHost\n",
      "generateHosts = true\n",
      "generateResolvConf = true\n",
      "\n",
      "# [user]\n",
      "# default = DemoUser\n",
      "\n"
     ]
    }
   ],
   "source": [
    "!cat /etc/wsl.conf"
   ]
  },
  {
   "cell_type": "markdown",
   "id": "ebade081-41af-41d0-a48f-100c422b7634",
   "metadata": {},
   "source": [
    "### Settings for port forwarding into virtual network"
   ]
  },
  {
   "cell_type": "markdown",
   "id": "048ac131-2699-4b7d-aa09-f351cefb2737",
   "metadata": {},
   "source": [
    "> rule: allow all traffic from port 8888 to pass through\n",
    "\n",
    "    netsh interface portproxy add v4tov4 listenport=8888 listenaddress=0.0.0.0 connectport=8888 connectaddress=172.22.253.143\n",
    "\n",
    "> delete rule:\n",
    "\n",
    "    netsh interface portproxy delete v4tov4 listenport=8888 listenaddress=0.0.0.0\n",
    "\n",
    "> view rules:\n",
    "\n",
    "    netsh interface portproxy show all\n"
   ]
  },
  {
   "cell_type": "markdown",
   "id": "c822856f-c342-4b91-a09e-e60a1f575abb",
   "metadata": {},
   "source": [
    "    sudo apt install firefox"
   ]
  },
  {
   "cell_type": "markdown",
   "id": "f320c6c5-c5ca-406b-b8bd-24e1551b311c",
   "metadata": {},
   "source": [
    "## WSL to Windows port forwarding"
   ]
  },
  {
   "cell_type": "markdown",
   "id": "0a13f736-d7a4-4b83-a244-15227d490426",
   "metadata": {},
   "source": [
    "> In powershell as administrator\n",
    "\n",
    "\n",
    "```sh\n",
    "netsh interface portproxy add v4tov4 listenport=80 listenaddress=0.0.0.0 connectport=80 connectaddress=$($(wsl hostname -I).Trim());\n",
    "```\n",
    "\n",
    "```sh\n",
    "New-NetFirewallRule -DisplayName \"WSL2 Port Bridge\" -Direction Inbound -Action Allow -Protocol TCP -LocalPort 80\n",
    "```\n",
    "\n"
   ]
  }
 ],
 "metadata": {
  "kernelspec": {
   "display_name": "python3",
   "language": "python",
   "name": "python3"
  },
  "widgets": {
   "application/vnd.jupyter.widget-state+json": {
    "state": {},
    "version_major": 2,
    "version_minor": 0
   }
  }
 },
 "nbformat": 4,
 "nbformat_minor": 5
}
