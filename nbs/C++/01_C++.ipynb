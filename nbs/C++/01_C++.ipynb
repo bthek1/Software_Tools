{
 "cells": [
  {
   "cell_type": "markdown",
   "id": "8a72f04b-e424-4a0c-b883-6fb489efd93e",
   "metadata": {},
   "source": [
    "# C++ \n",
    "\n",
    "> C++ \n",
    "\n",
    "- skip_showdoc: true\n",
    "- skip_exec: true"
   ]
  },
  {
   "cell_type": "code",
   "execution_count": null,
   "id": "2b032dea-1108-4fb7-885c-6bb35710baa7",
   "metadata": {},
   "outputs": [],
   "source": []
  }
 ],
 "metadata": {
  "kernelspec": {
   "display_name": "python3",
   "language": "python",
   "name": "python3"
  }
 },
 "nbformat": 4,
 "nbformat_minor": 5
}
