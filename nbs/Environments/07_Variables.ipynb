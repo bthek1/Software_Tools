{
 "cells": [
  {
   "cell_type": "markdown",
   "id": "09303bb1-bd7b-4491-b824-6ea4447182a4",
   "metadata": {},
   "source": [
    "# Linux Environment Variables\n",
    "\n",
    "> In Linux, environment variables are dynamic values that affect the behavior of processes and the shell. They are essential for configuring system settings, defining user preferences, and managing application behavior. Here's a comprehensive guide to understanding and managing environment variables in Linux.\n",
    "\n",
    "\n",
    "- skip_showdoc: true\n",
    "- skip_exec: true"
   ]
  },
  {
   "cell_type": "markdown",
   "id": "ede79304-2f4f-4308-a780-f8ed6b3fded2",
   "metadata": {},
   "source": [
    "## 🔍 What Are Environment Variables?\n",
    "Environment variables are key-value pairs that provide information about the system environment to processes. They are inherited by child processes and can influence the execution of commands and applications\n",
    "\n",
    "**Common environment variables include:**\n",
    "\n",
    "- `PATH`:Specifies directories to search for executable files\n",
    "- `HOME`:Indicates the current user's home directory\n",
    "- `USER`:Stores the name of the current user\n",
    "- `SHELL`:Defines the path to the current user's shell\n",
    "- `LANG`:Sets the system's locale and language settings\n",
    "\n",
    "---"
   ]
  },
  {
   "cell_type": "markdown",
   "id": "68a40f9f-6522-4cf2-9090-135410f4e5aa",
   "metadata": {},
   "source": [
    "## 🧰 Managing Environment Variables\n",
    "\n",
    "### 1. **Listing Environment Variables**\n",
    "To display all environment variable:\n",
    "\n",
    "```bash\n",
    "printenv\n",
    "``\n",
    "\n",
    "Or, to display a specific variabl:\n",
    "\n",
    "```bash\n",
    "echo $VARIABLE_NAME\n",
    "```\n",
    "\n",
    "For example, to check the `PATH` variable:\n",
    "\n",
    "```bash\n",
    "echo $PATH\n",
    "```"
   ]
  },
  {
   "cell_type": "markdown",
   "id": "33fa8879-b98a-478e-a929-85152059b1eb",
   "metadata": {},
   "source": [
    "### 2. **Setting Environment Variables Temporarily**\n",
    "To set an environment variable for the current session:\n",
    "\n",
    "```bash\n",
    "export VARIABLE_NAME=\"value\"\n",
    "```\n",
    "\n",
    "For example:\n",
    "\n",
    "```bash\n",
    "export JAVA_HOME=\"/usr/lib/jvm/java-11-openjdk\"\n",
    "```\n",
    "\n",
    "This variable will be available until the session end."
   ]
  },
  {
   "cell_type": "markdown",
   "id": "d41a877e-0cbf-46ed-b4dc-5793feb0556f",
   "metadata": {},
   "source": [
    "### 3. **Setting Environment Variables Permanently**\n",
    "To make an environment variable persistent across sessions, add it to your shell's initialization file:\n",
    "\n",
    " For Bash:\n",
    "\n",
    " \n",
    "```bash\n",
    "  echo 'export VARIABLE_NAME=\"value\"' >> ~/.bashrc\n",
    "  source ~/.bashrc\n",
    "```\n",
    "\n",
    "\n",
    " For Zsh:\n",
    "\n",
    " \n",
    "```bash\n",
    "  echo 'export VARIABLE_NAME=\"value\"' >> ~/.zshrc\n",
    "  source ~/.zshrc\n",
    "```\n",
    "\n",
    "For system-wide variables, add them to `/etc/environment` or create a script in `/etc/profile.d/`:\n",
    "\n",
    "```bash\n",
    "echo 'export VARIABLE_NAME=\"value\"' | sudo tee /etc/profile.d/custom_env.sh\n",
    "sudo chmod +x /etc/profile.d/custom_env.sh\n",
    "```\n",
    "\n",
    "\n",
    "---"
   ]
  },
  {
   "cell_type": "markdown",
   "id": "ddab98a3-391c-48be-9c72-a4816a45ee25",
   "metadata": {},
   "source": [
    "## 🧠 Best Practices\n",
    "\n",
    "- **Use uppercase names*: By convention, environment variable names are uppercase to distinguish them from shell variables.\n",
    "\n",
    "- **Be cautious with `PATH`*: When modifying `PATH`, append directories rather than replacing its value to avoid overwriting existing paths.\n",
    "\n",
    "- **Secure sensitive data*: Avoid storing sensitive information like passwords directly in environment variables. Use secure methods for handling such data.\n",
    "\n",
    "- **Document changes*: Keep track of modifications to environment variables, especially system-wide changes, to maintain system integrity.\n",
    "\n",
    "---"
   ]
  },
  {
   "cell_type": "markdown",
   "id": "d6f01960-e5df-452d-8f42-930d82072451",
   "metadata": {},
   "source": [
    "## 🛠 Troubleshooting\n",
    "\n",
    "- **Variable not found**: Ensure the variable is defined in the correct initialization file and that the file is sourced.\n",
    "\n",
    "- **Changes not reflected**: After modifying initialization files, run `source ~/.bashrc` (or the appropriate file) to apply chances.\n",
    "\n",
    "- **Conflicting variables**: Check for conflicting definitions in multiple files and resolve them to prevent unexpected behavior.\n",
    "\n",
    "---"
   ]
  },
  {
   "cell_type": "markdown",
   "id": "88344104-3c8e-4a8a-9d54-3102d9362276",
   "metadata": {},
   "source": [
    "## 📚 Additional Resources\n",
    "\n",
    "- [How to List, Set and Manage Linux Environment Variables](https://www.cherryservers.com/blog/how-to-set-list-and-manage-linux-environment-variables)\n",
    "\n",
    "- [How to Set Environment Variables in Linux - freeCodeCamp](https://www.freecodecamp.org/news/how-to-set-an-environment-variable-in-linux/)\n",
    "\n",
    "- [Managing Environment Variables in Linux - Baeldung](https://www.baeldung.com/linux/environment-variables)\n",
    "\n"
   ]
  },
  {
   "cell_type": "code",
   "execution_count": null,
   "id": "e694bee4-7b9d-4b58-af58-4e0bab954f7a",
   "metadata": {},
   "outputs": [],
   "source": []
  }
 ],
 "metadata": {
  "kernelspec": {
   "display_name": "python3",
   "language": "python",
   "name": "python3"
  }
 },
 "nbformat": 4,
 "nbformat_minor": 5
}
