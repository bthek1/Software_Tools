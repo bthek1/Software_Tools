{
 "cells": [
  {
   "cell_type": "markdown",
   "id": "9478a5df-ca09-47a5-b81c-6e622c335072",
   "metadata": {},
   "source": [
    "# Proxmox\n",
    "\n",
    "> Proxmox Virtual Environment (Proxmox VE) is a powerful, open-source platform for managing virtual machines (VMs) and containers. It integrates enterprise-class features with ease of use, making it an excellent choice for virtualization. Here’s an all-in-one guide to help you understand and get started with Proxmox.\n",
    "\n",
    "- skip_showdoc: true\n",
    "- skip_exec: true"
   ]
  },
  {
   "cell_type": "markdown",
   "id": "07e7e0ed-ee73-46dd-a14f-8e4b6b5c1eb7",
   "metadata": {},
   "source": [
    "- Proxmox\n",
    "  - jupyter docker\n",
    "  - windows\n",
    "  - ubuntu\n",
    "  - pihole\n",
    "  - home assistant\n",
    "  - NAS - trueNAS\n",
    "  - prometheous and grafana\n",
    "  - blueiris -  camera\n",
    " - gpu hdmi pass through for ubuntu"
   ]
  },
  {
   "cell_type": "markdown",
   "id": "1f58d3c3-b8f2-480a-ac3d-16df651d9378",
   "metadata": {},
   "source": [
    "[proxmox setup helper](https://www.youtube.com/watch?v=GoZaMgEgrHw)"
   ]
  },
  {
   "cell_type": "markdown",
   "id": "92943c33-ea70-4cec-9ea6-6840d73eadcd",
   "metadata": {},
   "source": [
    "## Default Login "
   ]
  },
  {
   "cell_type": "markdown",
   "id": "f204513c-8211-482a-8610-4926334d12dd",
   "metadata": {},
   "source": [
    "- bthek1 login: root\n",
    "- password: YME (classic)"
   ]
  },
  {
   "cell_type": "markdown",
   "id": "a167a00e-69ec-489c-ba0e-96000d39b34a",
   "metadata": {},
   "source": [
    "### **What is Proxmox?**\n",
    "- **Type 1 Hypervisor**: Runs directly on hardware for better performance.\n",
    "- **Based on Debian**: Uses a Linux kernel with KVM (Kernel-based Virtual Machine) and LXC (Linux Containers) for virtualization.\n",
    "- **Web-Based Management**: Administer everything through an intuitive web interface.\n",
    "- **Free & Open Source**: Enterprise features available for free; optional support subscription for updates."
   ]
  },
  {
   "cell_type": "markdown",
   "id": "e1ecbf4b-867d-4a39-b1b4-fa7dfe95daa5",
   "metadata": {},
   "source": [
    "### **Key Features**\n",
    "1. **Virtualization Options**:\n",
    "   - **KVM**: Full virtualization for running any operating system.\n",
    "   - **LXC**: Lightweight containers for running Linux-based applications.\n",
    "2. **High Availability (HA)**:\n",
    "   - Create clusters with multiple nodes for redundancy and failover.\n",
    "3. **Backup and Restore**:\n",
    "   - Built-in backup solutions (full and incremental backups).\n",
    "   - Supports external storage for backups.\n",
    "4. **Storage Options**:\n",
    "   - Local storage, NFS, iSCSI, Ceph, or ZFS file systems.\n",
    "5. **Networking**:\n",
    "   - Virtual networking with VLAN support and bonding.\n",
    "   - Bridged networking for external connectivity.\n",
    "6. **Proxmox VE Cluster**:\n",
    "   - Manage multiple nodes from a single interface.\n",
    "7. **Integrated Web Interface**:\n",
    "   - Manage VMs, storage, networking, and clusters through a single dashboard.\n",
    "8. **Flexible Storage**:\n",
    "   - Mix and match storage technologies (ZFS, Ceph, local disks, etc.).\n",
    "9. **Live Migration**:\n",
    "   - Move running VMs between nodes without downtime.\n",
    "10. **Support for Templates and Clones**:\n",
    "    - Easily deploy new VMs from existing templates."
   ]
  },
  {
   "cell_type": "markdown",
   "id": "3acda67e-e9f9-48f9-bcbb-618d15bbdf59",
   "metadata": {},
   "source": [
    "### **System Requirements**\n",
    "- **CPU**: 64-bit processor with virtualization support (Intel VT-x or AMD-V).\n",
    "- **RAM**: Minimum 2 GB (8 GB or more recommended for multiple VMs).\n",
    "- **Storage**: SSDs recommended for faster I/O.\n",
    "- **Network**: At least 1 Gbps for high-performance clusters."
   ]
  },
  {
   "cell_type": "markdown",
   "id": "c5f8b76c-a455-404d-8b93-4568eb86b3e6",
   "metadata": {},
   "source": [
    "### **Getting Started**\n",
    "#### 1. **Installation**\n",
    "- Download the Proxmox ISO from [Proxmox's website](https://www.proxmox.com/).\n",
    "- Create a bootable USB using tools like Rufus or Etcher.\n",
    "- Boot from the USB and follow the installation wizard.\n",
    "\n",
    "#### 2. **Initial Configuration**\n",
    "- Set up hostname, IP address, and networking.\n",
    "- Configure storage (local or external).\n",
    "- Access the Proxmox web interface at `https://<IP_ADDRESS>:8006`."
   ]
  },
  {
   "cell_type": "markdown",
   "id": "0627bd38-800c-4588-b5c9-33bf01020b38",
   "metadata": {},
   "source": [
    "### **Using Proxmox**\n",
    "#### 1. **Creating VMs**\n",
    "- In the web interface, navigate to **Create VM**.\n",
    "- Configure resources:\n",
    "  - CPU, RAM, storage, and network interfaces.\n",
    "- Install the operating system from an ISO image.\n",
    "\n",
    "#### 2. **Using Containers (LXC)**\n",
    "- Navigate to **Create CT** for creating lightweight Linux containers.\n",
    "- Select the Linux distribution template and configure resources.\n",
    "\n",
    "#### 3. **Storage Management**\n",
    "- Add storage under **Datacenter > Storage**:\n",
    "  - Local disks, shared storage (NFS/iSCSI), or distributed storage (Ceph, ZFS).\n",
    "\n",
    "#### 4. **Backup and Restore**\n",
    "- Set up backup jobs for VMs and containers.\n",
    "- Backups can be stored locally or on external storage.\n",
    "\n",
    "#### 5. **Networking**\n",
    "- Configure virtual bridges under **Datacenter > Network**.\n",
    "- Use VLANs for isolated networks or create NAT for external access.\n",
    "\n",
    "#### 6. **Clustering**\n",
    "- Add nodes to a cluster for centralized management:\n",
    "  - Run `pvecm add <IP_ADDRESS>` on new nodes.\n",
    "- Ensure consistent storage and networking configuration across nodes."
   ]
  },
  {
   "cell_type": "markdown",
   "id": "cc081517-19ae-49e9-a645-83d5d1374321",
   "metadata": {},
   "source": [
    "### **Advanced Features**\n",
    "#### 1. **Proxmox VE Cluster**\n",
    "- High availability across nodes.\n",
    "- Shared storage (Ceph or NFS) is recommended for live migration.\n",
    "  \n",
    "#### 2. **ZFS Integration**\n",
    "- Proxmox includes ZFS for advanced storage management:\n",
    "  - Snapshots, compression, and RAID-like redundancy.\n",
    "\n",
    "#### 3. **Ceph Storage**\n",
    "- Use Ceph for scalable, distributed storage:\n",
    "  - Install Ceph packages and create a Ceph cluster.\n",
    "\n",
    "#### 4. **PCI Passthrough**\n",
    "- Pass hardware devices directly to a VM for bare-metal performance.\n",
    "- Requires a CPU with IOMMU support (Intel VT-d/AMD-Vi).\n",
    "\n",
    "#### 5. **Cloud-Init**\n",
    "- Automate VM deployment with preconfigured settings (e.g., hostname, networking)."
   ]
  },
  {
   "cell_type": "markdown",
   "id": "8f072189-bae8-41f0-84fb-11a824b0fb27",
   "metadata": {},
   "source": [
    "### **Maintenance**\n",
    "- **Updates**:\n",
    "  - Regularly update Proxmox (`apt update && apt upgrade`) for security and feature improvements.\n",
    "- **Subscriptions**:\n",
    "  - Optional enterprise subscription for support and access to stable update repositories.\n",
    "  - Free repositories are available but may include testing features.\n",
    "- **Logs**:\n",
    "  - Monitor logs under **Syslog** for troubleshooting."
   ]
  },
  {
   "cell_type": "markdown",
   "id": "afb2ad22-0f04-4ae2-bc05-8d35f074adf4",
   "metadata": {},
   "source": [
    "### **Best Practices**\n",
    "1. **Use ZFS or Ceph** for resilient storage solutions.\n",
    "2. **Schedule Regular Backups** of all critical VMs.\n",
    "3. **Allocate Resources Wisely**:\n",
    "   - Ensure sufficient CPU and RAM are allocated to each VM or container.\n",
    "4. **Secure Proxmox**:\n",
    "   - Use strong passwords and enable two-factor authentication (2FA).\n",
    "   - Restrict web interface access to trusted IPs.\n",
    "5. **Networking**:\n",
    "   - Use VLANs for better isolation and scalability.\n",
    "6. **Monitor Performance**:\n",
    "   - Check CPU, memory, and storage usage under the **Dashboard**."
   ]
  },
  {
   "cell_type": "markdown",
   "id": "c82ea9b3-9417-41cf-9bd7-f8dae163f633",
   "metadata": {},
   "source": [
    "### **Common Issues and Troubleshooting**\n",
    "1. **VM Won’t Start**:\n",
    "   - Check if sufficient resources are available.\n",
    "   - Review logs in `/var/log/pve/tasks`.\n",
    "2. **Storage Issues**:\n",
    "   - Ensure correct permissions for shared storage.\n",
    "3. **Cluster Problems**:\n",
    "   - Use `pvecm status` to check cluster health.\n",
    "   - Sync time across nodes using `ntpd` or `chrony`."
   ]
  }
 ],
 "metadata": {
  "kernelspec": {
   "display_name": "fast",
   "language": "python",
   "name": "fast"
  }
 },
 "nbformat": 4,
 "nbformat_minor": 5
}
