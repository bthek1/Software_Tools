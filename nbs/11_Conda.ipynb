{
 "cells": [
  {
   "cell_type": "markdown",
   "id": "5a781e94-a176-4a83-af67-174dfb74244b",
   "metadata": {},
   "source": [
    "# Conda Setup\n",
    "\n",
    "> Details on setting up conda Setup\n",
    "\n",
    "\n",
    "- skip_showdoc: true\n",
    "- skip_exec: true"
   ]
  },
  {
   "cell_type": "code",
   "execution_count": null,
   "id": "0eff3b9f-4842-4377-8557-86c060600080",
   "metadata": {},
   "outputs": [],
   "source": [
    "#| default_exp conda"
   ]
  },
  {
   "cell_type": "markdown",
   "id": "81eaa4ba-46a1-4e24-b06a-d2557faa583f",
   "metadata": {},
   "source": [
    "## Manual Installation"
   ]
  },
  {
   "cell_type": "markdown",
   "id": "500e94c2-3d25-40bb-acac-ae30f6bcda07",
   "metadata": {},
   "source": [
    "```bash\n",
    "# Function to check if Conda is installed, and install it if not\n",
    "install_conda() {\n",
    "    if command -v conda &> /dev/null; then\n",
    "        echo \"Conda is already installed.\"\n",
    "    else\n",
    "        echo \"Conda is not installed. Installing Miniconda...\"\n",
    "        \n",
    "        # Download Miniconda installer script\n",
    "        MINICONDA_URL=\"https://repo.anaconda.com/miniconda/Miniconda3-latest-Linux-x86_64.sh\"\n",
    "        INSTALLER=\"Miniconda3-latest-Linux-x86_64.sh\"\n",
    "        \n",
    "        # Download the Miniconda installer\n",
    "        curl -LO $MINICONDA_URL\n",
    "\n",
    "        # Run the installer\n",
    "        bash $INSTALLER -b -p $HOME/miniconda\n",
    "        \n",
    "        # Initialize Conda in the current shell\n",
    "        source \"$HOME/miniconda/etc/profile.d/conda.sh\"\n",
    "        conda init\n",
    "        \n",
    "        # Clean up the installer\n",
    "        rm $INSTALLER\n",
    "\n",
    "        echo \"Conda installation completed. Please restart your terminal or run 'source ~/.bashrc' to activate Conda.\"\n",
    "    fi\n",
    "}\n",
    "```\n"
   ]
  },
  {
   "cell_type": "markdown",
   "id": "a4837b9f-c596-42ab-a38d-315c572979cb",
   "metadata": {},
   "source": [
    "## Fast Setup"
   ]
  },
  {
   "cell_type": "markdown",
   "id": "1d3a5954-196d-4774-8f63-32513512cec4",
   "metadata": {},
   "source": [
    "```sh\n",
    "git clone https://github.com/fastai/fastsetup.git\n",
    "```"
   ]
  },
  {
   "cell_type": "markdown",
   "id": "15f190f5-a068-468c-b61f-4243332f7e25",
   "metadata": {},
   "source": [
    "> to list conda envs\n",
    "```sh\n",
    "conda env list\n",
    "```"
   ]
  },
  {
   "cell_type": "markdown",
   "id": "842ad6bd-0239-4c67-97e8-545476667d60",
   "metadata": {},
   "source": [
    "## To create basic conda env"
   ]
  },
  {
   "cell_type": "markdown",
   "id": "c52a7016-f5ed-4176-92ce-ccb4b2f0d08b",
   "metadata": {},
   "source": [
    "After running ./setup-conda.sh, create conda environment\n",
    "\n",
    "```sh\n",
    "conda create -n <name> python\n",
    "```"
   ]
  },
  {
   "cell_type": "markdown",
   "id": "0cae4857-4f2c-4baa-9b12-099f75d7a36d",
   "metadata": {},
   "source": [
    "## To remove conda env"
   ]
  },
  {
   "cell_type": "markdown",
   "id": "326f680f-f56b-4b98-a670-661c0765d038",
   "metadata": {},
   "source": [
    "```sh\n",
    "conda remove --name myenv --all\n",
    "```"
   ]
  },
  {
   "cell_type": "markdown",
   "id": "02ee0e30-0c44-4ed2-b612-20acafc2b378",
   "metadata": {},
   "source": [
    "## To build conda env with environment file"
   ]
  },
  {
   "cell_type": "markdown",
   "id": "66a3a3a7-8493-44f1-bafe-d66d92a4433a",
   "metadata": {},
   "source": [
    "```sh\n",
    "conda env create -n <name> -f environment.yml\n",
    "```"
   ]
  },
  {
   "cell_type": "markdown",
   "id": "c709e6f6-400e-4515-b768-7f62287380d4",
   "metadata": {},
   "source": [
    "```sh\n",
    "mamba env create -n cfast -f cfast.yml\n",
    "```"
   ]
  },
  {
   "cell_type": "markdown",
   "id": "e6fb8319-9695-4cf5-9bd9-7a1ebadc47d2",
   "metadata": {},
   "source": [
    "- for creating environment files\n",
    "```sh\n",
    "conda env export > environment.yml\n",
    "```"
   ]
  },
  {
   "cell_type": "markdown",
   "id": "15886db1-5e5c-44bd-9cb1-b6d272be1a73",
   "metadata": {},
   "source": [
    "## To clone an env"
   ]
  },
  {
   "cell_type": "markdown",
   "id": "606da8dc-7de4-4652-8078-fc23232a2459",
   "metadata": {},
   "source": [
    "```sh\n",
    "conda create --name <clone name> --clone <env name>\n",
    "```"
   ]
  },
  {
   "cell_type": "markdown",
   "id": "806a3b6f-2105-41cf-a9a7-54949df1749b",
   "metadata": {},
   "source": [
    "## To create a spec list file"
   ]
  },
  {
   "cell_type": "markdown",
   "id": "f9c61d1e-9c1a-44dc-94d4-648458691e70",
   "metadata": {},
   "source": [
    "\n",
    "\n",
    "```sh\n",
    "conda list --explicit > spec-file.txt\n",
    "```"
   ]
  },
  {
   "cell_type": "markdown",
   "id": "f7725ff1-a1e1-42e8-b777-230b6bab697f",
   "metadata": {},
   "source": [
    "To use the spec file to install its listed packages into an existing environment:\n",
    "\n",
    "```sh\n",
    "conda install --name myenv --file spec-file.txt\n",
    "```"
   ]
  },
  {
   "cell_type": "markdown",
   "id": "8b03a740-a6aa-4290-8f2d-d4a9e7214864",
   "metadata": {},
   "source": [
    "## To clean Mamba cache"
   ]
  },
  {
   "cell_type": "markdown",
   "id": "f1372444-afde-42b1-a76a-f1483c4cbac1",
   "metadata": {},
   "source": [
    "```sh\n",
    "mamba clean --yes --all\n",
    "```"
   ]
  },
  {
   "cell_type": "code",
   "execution_count": null,
   "id": "d553f262-94a9-41bf-805c-d82e6dbfcf29",
   "metadata": {},
   "outputs": [],
   "source": []
  }
 ],
 "metadata": {
  "kernelspec": {
   "display_name": "python3",
   "language": "python",
   "name": "python3"
  },
  "widgets": {
   "application/vnd.jupyter.widget-state+json": {
    "state": {},
    "version_major": 2,
    "version_minor": 0
   }
  }
 },
 "nbformat": 4,
 "nbformat_minor": 5
}
