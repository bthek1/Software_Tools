{
 "cells": [
  {
   "cell_type": "markdown",
   "id": "356e2332-c167-42c0-b6ff-0c3af70b7bc0",
   "metadata": {},
   "source": [
    "# Shell Commands\n",
    "\n",
    "> Here’s a **complete, forward-thinking guide to Linux shell commands** — structured so you can understand *what they do, how they work together, and how to master them for engineering and automation*.\n",
    "\n",
    "\n",
    "- skip_showdoc: true\n",
    "- skip_exec: true"
   ]
  },
  {
   "cell_type": "markdown",
   "id": "daaccffa-194c-4446-9db2-e117bac96ec7",
   "metadata": {},
   "source": [
    "## 🧭 1. What Is the Linux Shell?\n",
    "\n",
    "A **shell** is the command interpreter between you and the operating system.\n",
    "Common shells include:\n",
    "\n",
    "| Shell    | Description                                                   | Command to start |\n",
    "| -------- | ------------------------------------------------------------- | ---------------- |\n",
    "| **bash** | Default on most distros, scripting-friendly                   | `bash`           |\n",
    "| **zsh**  | Extended Bash with better completion & themes (used in macOS) | `zsh`            |\n",
    "| **fish** | User-friendly, smart autosuggestions                          | `fish`           |\n",
    "| **sh**   | POSIX shell, minimal and portable                             | `sh`             |\n",
    "\n",
    "**Pro tip:** Use `echo $SHELL` to see which shell you’re using.\n",
    "\n",
    "---"
   ]
  },
  {
   "cell_type": "markdown",
   "id": "219831f1-617d-49ac-b234-6bcc40aefa39",
   "metadata": {},
   "source": [
    "## ⚙️ 2. Shell Command Basics\n",
    "\n",
    "| Command           | Description                           | Example                |\n",
    "| ----------------- | ------------------------------------- | ---------------------- |\n",
    "| `pwd`             | Print working directory               | `pwd`                  |\n",
    "| `ls`              | List files                            | `ls -la`               |\n",
    "| `cd`              | Change directory                      | `cd /var/www`          |\n",
    "| `mkdir`           | Create a directory                    | `mkdir logs`           |\n",
    "| `rmdir` / `rm -r` | Remove directory / recursively        | `rm -rf old_dir`       |\n",
    "| `cp`              | Copy files or directories             | `cp file1.txt backup/` |\n",
    "| `mv`              | Move or rename files                  | `mv main.py src/`      |\n",
    "| `cat`             | Show file content                     | `cat /etc/passwd`      |\n",
    "| `less` / `more`   | View long files                       | `less large.log`       |\n",
    "| `touch`           | Create empty file or update timestamp | `touch app.log`        |\n",
    "\n",
    "---"
   ]
  },
  {
   "cell_type": "markdown",
   "id": "9496e299-74b9-4e20-9152-b971112afd93",
   "metadata": {},
   "source": [
    "## 🧩 3. File and Text Manipulation\n",
    "\n",
    "| Command | Use                          | Example                        |       |\n",
    "| ------- | ---------------------------- | ------------------------------ | ----- |\n",
    "| `grep`  | Search for text patterns     | `grep \"error\" app.log`         |       |\n",
    "| `find`  | Search for files             | `find . -name \"*.py\"`          |       |\n",
    "| `awk`   | Field-based text processing  | `awk '{print $1,$3}' data.txt` |       |\n",
    "| `sed`   | Stream editor (find/replace) | `sed 's/foo/bar/g' file.txt`   |       |\n",
    "| `cut`   | Extract columns              | `cut -d',' -f2 users.csv`      |       |\n",
    "| `sort`  | Sort lines                   | `sort data.txt`                |       |\n",
    "| `uniq`  | Remove duplicates            | `sort data.txt                 | uniq` |\n",
    "| `wc`    | Word/line/byte count         | `wc -l access.log`             |       |\n",
    "| `diff`  | Compare files                | `diff file1.txt file2.txt`     |       |\n",
    "\n",
    "---"
   ]
  },
  {
   "cell_type": "markdown",
   "id": "851d83c2-df9d-4fff-8bf0-5b33e9ab6a18",
   "metadata": {},
   "source": [
    "## 🔁 4. Redirection and Pipes\n",
    "\n",
    "| Operator | Meaning                         | Example                          |              |             |\n",
    "| -------- | ------------------------------- | -------------------------------- | ------------ | ----------- |\n",
    "| `>`      | Redirect output (overwrite)     | `ls > files.txt`                 |              |             |\n",
    "| `>>`     | Append output                   | `echo \"done\" >> log.txt`         |              |             |\n",
    "| `<`      | Take input from file            | `sort < data.txt`                |              |             |\n",
    "| `        | `                               | Pipe output into another command | `cat log.txt | grep error` |\n",
    "| `2>`     | Redirect errors                 | `python script.py 2> errors.txt` |              |             |\n",
    "| `&>`     | Redirect both stdout and stderr | `./run.sh &> output.log`         |              |             |\n",
    "\n",
    "---"
   ]
  },
  {
   "cell_type": "markdown",
   "id": "671da70f-b5f0-49ea-983d-51b8df7f23ec",
   "metadata": {},
   "source": [
    "## 🧮 5. Permissions and Ownership\n",
    "\n",
    "| Command | Purpose                     | Example                    |\n",
    "| ------- | --------------------------- | -------------------------- |\n",
    "| `chmod` | Change permissions          | `chmod 755 script.sh`      |\n",
    "| `chown` | Change owner                | `chown ben:staff project/` |\n",
    "| `umask` | Set default permission mask | `umask 022`                |\n",
    "| `sudo`  | Run as superuser            | `sudo apt update`          |\n",
    "\n",
    "> 💡 `chmod +x file.sh` makes a file executable.\n",
    "\n",
    "---"
   ]
  },
  {
   "cell_type": "markdown",
   "id": "f5d875c5-e856-425e-96b9-573ae3946d53",
   "metadata": {},
   "source": [
    "## 🧠 6. Process & System Management\n",
    "\n",
    "| Command                   | Description                | Example              |             |\n",
    "| ------------------------- | -------------------------- | -------------------- | ----------- |\n",
    "| `ps`                      | Show running processes     | `ps aux              | grep nginx` |\n",
    "| `top` / `htop`            | Interactive process viewer | `htop`               |             |\n",
    "| `kill`                    | Stop a process by PID      | `kill -9 1024`       |             |\n",
    "| `jobs` / `fg` / `bg`      | Manage background tasks    | `sleep 60 &`         |             |\n",
    "| `df -h`                   | Disk usage by filesystem   | `df -h`              |             |\n",
    "| `du -sh`                  | Directory size             | `du -sh ~/Downloads` |             |\n",
    "| `free -h`                 | Memory usage               | `free -h`            |             |\n",
    "| `uptime`                  | System load                | `uptime`             |             |\n",
    "| `whoami`                  | Current user               | `whoami`             |             |\n",
    "| `uname -a`                | Kernel info                | `uname -a`           |             |\n",
    "| `lscpu`, `lsusb`, `lspci` | Hardware info              | `lscpu`              |             |\n",
    "\n",
    "---"
   ]
  },
  {
   "cell_type": "markdown",
   "id": "efec9711-153d-46f1-8ea1-85f1cac81867",
   "metadata": {},
   "source": [
    "## 🌐 7. Networking Commands\n",
    "\n",
    "| Command                | Function           | Example                             |\n",
    "| ---------------------- | ------------------ | ----------------------------------- |\n",
    "| `ping`                 | Test connection    | `ping google.com`                   |\n",
    "| `curl`                 | Fetch URLs         | `curl https://example.com`          |\n",
    "| `wget`                 | Download files     | `wget https://example.com/file.zip` |\n",
    "| `ifconfig` / `ip addr` | Network interfaces | `ip addr show eth0`                 |\n",
    "| `netstat` / `ss`       | Show open ports    | `ss -tuln`                          |\n",
    "| `scp`                  | Copy over SSH      | `scp file.txt user@host:/path`      |\n",
    "| `ssh`                  | Remote shell       | `ssh user@192.168.1.10`             |\n",
    "| `traceroute`           | Trace network hops | `traceroute 8.8.8.8`                |\n",
    "| `nslookup` / `dig`     | DNS lookup         | `dig recoverymetrics.com`           |\n",
    "\n",
    "---"
   ]
  },
  {
   "cell_type": "markdown",
   "id": "d910caf4-120f-4368-bc00-7e4c1473c729",
   "metadata": {},
   "source": [
    "## 📦 8. Package Management\n",
    "\n",
    "| Distro        | Commands         | Example                   |\n",
    "| ------------- | ---------------- | ------------------------- |\n",
    "| Debian/Ubuntu | `apt`, `apt-get` | `sudo apt install vim`    |\n",
    "| Fedora/RHEL   | `dnf`, `yum`     | `sudo dnf update`         |\n",
    "| Arch          | `pacman`         | `sudo pacman -S neovim`   |\n",
    "| Alpine        | `apk`            | `apk add curl`            |\n",
    "| openSUSE      | `zypper`         | `sudo zypper install git` |\n",
    "\n",
    "---"
   ]
  },
  {
   "cell_type": "markdown",
   "id": "4b118948-e2b2-4e39-9cd8-b855bb9cbe5b",
   "metadata": {},
   "source": [
    "## 🧰 9. System and User Management\n",
    "\n",
    "| Command               | Purpose         | Example                        |\n",
    "| --------------------- | --------------- | ------------------------------ |\n",
    "| `adduser`, `useradd`  | Create user     | `sudo adduser ben`             |\n",
    "| `passwd`              | Change password | `passwd ben`                   |\n",
    "| `groups`, `usermod`   | Manage groups   | `sudo usermod -aG sudo ben`    |\n",
    "| `crontab -e`          | Schedule jobs   | `0 3 * * * /usr/bin/backup.sh` |\n",
    "| `systemctl`           | Manage services | `sudo systemctl restart nginx` |\n",
    "| `journalctl`          | View logs       | `sudo journalctl -u nginx`     |\n",
    "| `shutdown` / `reboot` | Power control   | `sudo reboot`                  |\n",
    "\n",
    "---"
   ]
  },
  {
   "cell_type": "markdown",
   "id": "6b1d55da-0919-4ad6-81cd-9e6a4a08cab8",
   "metadata": {},
   "source": [
    "## 🧑‍💻 10. Scripting and Automation\n",
    "\n",
    "### Example: `backup.sh`\n",
    "\n",
    "```bash\n",
    "#!/bin/bash\n",
    "SRC=\"/var/www\"\n",
    "DEST=\"/backup/www_$(date +%F).tar.gz\"\n",
    "\n",
    "tar -czf \"$DEST\" \"$SRC\"\n",
    "echo \"Backup completed: $DEST\"\n",
    "```\n",
    "\n",
    "Make it executable:\n",
    "\n",
    "```bash\n",
    "chmod +x backup.sh\n",
    "```\n",
    "\n",
    "Schedule it with cron:\n",
    "\n",
    "```bash\n",
    "crontab -e\n",
    "0 2 * * * /home/ben/backup.sh\n",
    "```\n",
    "\n",
    "---"
   ]
  },
  {
   "cell_type": "markdown",
   "id": "afa4ff58-0d4c-443c-b950-a5baaf74a33f",
   "metadata": {},
   "source": [
    "## 🧱 11. Environment Variables\n",
    "\n",
    "| Command      | Description          | Example             |\n",
    "| ------------ | -------------------- | ------------------- |\n",
    "| `export`     | Set variable         | `export DEBUG=True` |\n",
    "| `env`        | List variables       | `env`               |\n",
    "| `unset`      | Remove variable      | `unset DEBUG`       |\n",
    "| `.env` files | Common in dev setups | `source .env`       |\n",
    "\n",
    "---"
   ]
  },
  {
   "cell_type": "markdown",
   "id": "393f89d7-9110-45e2-a7ec-370d679df63c",
   "metadata": {},
   "source": [
    "## 🧮 12. Compression and Archiving\n",
    "\n",
    "| Command           | Type                   | Example                          |\n",
    "| ----------------- | ---------------------- | -------------------------------- |\n",
    "| `tar`             | Archive multiple files | `tar -czf backup.tar.gz folder/` |\n",
    "| `zip`, `unzip`    | ZIP format             | `zip -r project.zip .`           |\n",
    "| `gzip` / `gunzip` | Compress single file   | `gzip bigfile.log`               |\n",
    "| `xz`, `bz2`       | High-ratio compression | `xz -z data.csv`                 |\n",
    "\n",
    "---"
   ]
  },
  {
   "cell_type": "markdown",
   "id": "8d008f6f-2f56-42e2-8d53-eb268c32c200",
   "metadata": {},
   "source": [
    "## 🧰 13. Monitoring & Performance Tools\n",
    "\n",
    "| Command                      | Description               |\n",
    "| ---------------------------- | ------------------------- |\n",
    "| `htop` / `atop`              | Real-time process stats   |\n",
    "| `iotop`                      | Disk I/O usage            |\n",
    "| `iftop`                      | Network usage per process |\n",
    "| `vmstat`, `mpstat`, `iostat` | CPU/memory/disk stats     |\n",
    "| `sar`                        | System Activity Reporter  |\n",
    "\n",
    "---"
   ]
  },
  {
   "cell_type": "markdown",
   "id": "d51d256f-de28-4d36-8897-9b00935c6fdd",
   "metadata": {},
   "source": [
    "## 🧠 14. Power Shell Tricks\n",
    "\n",
    "| Trick               | Description                            |                          |\n",
    "| ------------------- | -------------------------------------- | ------------------------ |\n",
    "| `!!`                | Re-run last command                    |                          |\n",
    "| `!sudo`             | Run last command with sudo             |                          |\n",
    "| `!ls`               | Re-run last command starting with “ls” |                          |\n",
    "| `Ctrl + R`          | Search command history                 |                          |\n",
    "| `history`           | List command history                   |                          |\n",
    "| `alias ll='ls -la'` | Create custom shortcuts                |                          |\n",
    "| `df -Th             | grep /dev/nvme`                        | Check specific disk type |\n",
    "\n",
    "---"
   ]
  },
  {
   "cell_type": "markdown",
   "id": "af8d4feb-aa8f-46b5-b1d3-4dac926cce8d",
   "metadata": {},
   "source": [
    "## 📈 15. Example Workflow (Data Analysis)\n",
    "\n",
    "```bash\n",
    "# Find all CSVs modified today and summarize line counts\n",
    "find . -name \"*.csv\" -mtime -1 | while read f; do\n",
    "  echo \"$(wc -l < \"$f\") lines in $f\"\n",
    "done | sort -nr\n",
    "```\n",
    "\n",
    "---"
   ]
  },
  {
   "cell_type": "markdown",
   "id": "8e83af0f-73d2-4499-8ac0-fed96cf178ca",
   "metadata": {},
   "source": [
    "## 📊 16. Visual Diagram: Shell Command Flow\n",
    "\n",
    "```\n",
    "Input -> Shell -> Command -> Kernel -> Hardware\n",
    "                     |\n",
    "                     v\n",
    "              stdout / stderr -> Terminal / Pipe\n",
    "```\n",
    "\n",
    "---"
   ]
  },
  {
   "cell_type": "markdown",
   "id": "a168b62b-2fba-43c1-a377-818f078efa37",
   "metadata": {},
   "source": [
    "## 🚀 17. Next-Level Mastery\n",
    "\n",
    "| Area              | Description                               | Tools                 |\n",
    "| ----------------- | ----------------------------------------- | --------------------- |\n",
    "| **Scripting**     | Learn conditionals, loops, functions      | `bash`, `zsh`, `fish` |\n",
    "| **Regex mastery** | Combine `grep`, `awk`, `sed`              |                       |\n",
    "| **Automation**    | Combine cron + systemd + scripts          |                       |\n",
    "| **Security**      | Learn `sudo`, `ufw`, and file perms       |                       |\n",
    "| **Networking**    | Practice with `ssh`, `scp`, `nmap`        |                       |\n",
    "| **Observability** | `dmesg`, `journalctl`, `htop`, `ps`, etc. |                       |\n",
    "\n",
    "---\n"
   ]
  },
  {
   "cell_type": "code",
   "execution_count": null,
   "id": "32787f2a-3b38-4897-a512-a580974a9e11",
   "metadata": {},
   "outputs": [],
   "source": []
  },
  {
   "cell_type": "code",
   "execution_count": null,
   "id": "2ddedbe0-c5a8-4922-9b55-99b0d7dbdf7e",
   "metadata": {},
   "outputs": [],
   "source": []
  },
  {
   "cell_type": "code",
   "execution_count": null,
   "id": "25e80352-809b-479c-973b-573be95bc1aa",
   "metadata": {},
   "outputs": [],
   "source": []
  },
  {
   "cell_type": "code",
   "execution_count": null,
   "id": "4ddafa03-d7fe-4852-99df-a775135a1f02",
   "metadata": {},
   "outputs": [],
   "source": []
  },
  {
   "cell_type": "code",
   "execution_count": null,
   "id": "291f5ba7-fb87-4e63-bc68-8392f52db0a3",
   "metadata": {},
   "outputs": [],
   "source": []
  },
  {
   "cell_type": "code",
   "execution_count": null,
   "id": "61d3fe0e-4d5d-4b54-9a36-fb315d4cf3e0",
   "metadata": {},
   "outputs": [],
   "source": []
  }
 ],
 "metadata": {
  "kernelspec": {
   "display_name": "python3",
   "language": "python",
   "name": "python3"
  }
 },
 "nbformat": 4,
 "nbformat_minor": 5
}
