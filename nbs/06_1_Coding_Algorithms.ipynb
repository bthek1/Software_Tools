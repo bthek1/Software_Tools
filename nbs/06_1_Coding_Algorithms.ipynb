{
 "cells": [
  {
   "cell_type": "markdown",
   "id": "152ba897-d56b-458d-b6cd-bd6cc1e8ddfb",
   "metadata": {},
   "source": [
    "# Coding Algorithms\n",
    "\n",
    "> Coding Algorithms\n",
    "\n",
    "\n",
    "- skip_showdoc: true\n",
    "- skip_exec: true"
   ]
  },
  {
   "cell_type": "markdown",
   "id": "631fc87b-1908-42b8-80a4-b4ac982954c0",
   "metadata": {},
   "source": [
    "| Category          | Algorithm | Why It's Useful | Python Example |\n",
    "|:------------------|:----------|:----------------|:---------------|\n",
    "| Searching         | Binary Search | Fast lookup in sorted data | ✅ |\n",
    "| Sorting           | Quick Sort | Sorting efficiently | ✅ |\n",
    "| Recursion/DP      | Fibonacci (Memoization) | Dynamic Programming intro | ✅ |\n",
    "| Greedy            | Dijkstra's Algorithm | Shortest path finding | ✅ |\n",
    "| Graphs            | BFS / DFS | Navigating networks, trees | ✅ |\n",
    "| Sliding Window    | Max Subarray Sum | Real-time analytics, optimization | ✅ |\n",
    "| Divide & Conquer  | Merge Sort | Balanced sorting | ✅ |\n",
    "| Trees             | Lowest Common Ancestor (LCA) | Tree queries (databases, filesystems) | ✅ |\n",
    "| Hashing           | Two Sum | Fast lookups using hashmaps | ✅ |\n",
    "| Union-Find (DSU)  | Kruskal’s Algorithm | Group connectivity (e.g., social networks) | ✅ |\n",
    "\n",
    "---"
   ]
  },
  {
   "cell_type": "markdown",
   "id": "ee14e679-d63e-4f08-b8d7-bd2de331197e",
   "metadata": {},
   "source": [
    "### 1. **Binary Search**\n",
    "\n",
    "```python\n",
    "def binary_search(arr, target):\n",
    "    low, high = 0, len(arr)-1\n",
    "    while low <= high:\n",
    "        mid = (low + high) // 2\n",
    "        if arr[mid] == target:\n",
    "            return mid\n",
    "        elif arr[mid] < target:\n",
    "            low = mid + 1\n",
    "        else:\n",
    "            high = mid - 1\n",
    "    return -1\n",
    "```\n",
    "\n",
    "---"
   ]
  },
  {
   "cell_type": "markdown",
   "id": "42d6df19-cdc2-430e-a90b-831b38ea8cb6",
   "metadata": {},
   "source": [
    "### 2. **Quick Sort**archete\n",
    "\n",
    "```python\n",
    "def quick_sort(arr):\n",
    "    if len(arr) <= 1:\n",
    "        return arr\n",
    "    pivot = arr[len(arr)//2]\n",
    "    left = [x for x in arr if x < pivot]\n",
    "    mid = [x for x in arr if x == pivot]\n",
    "    right = [x for x in arr if x > pivot]\n",
    "    return quick_sort(left) + mid + quick_sort(right)\n",
    "```\n",
    "\n",
    "---"
   ]
  },
  {
   "cell_type": "markdown",
   "id": "e2ade554-852f-4410-8bcc-8e69340c29c2",
   "metadata": {},
   "source": [
    "### 3. **Fibonacci (Memoized)**\n",
    "\n",
    "```python\n",
    "from functools import lru_cache\n",
    "\n",
    "@lru_cache(maxsize=None)\n",
    "def fib(n):\n",
    "    if n < 2:\n",
    "        return n\n",
    "    return fib(n-1) + fib(n-2)\n",
    "```\n",
    "\n",
    "---"
   ]
  },
  {
   "cell_type": "markdown",
   "id": "d5a98b16-281e-4012-a19a-28c2ffadaea2",
   "metadata": {},
   "source": [
    "### 4. **Dijkstra’s Algorithm**\n",
    "\n",
    "```python\n",
    "import heapq\n",
    "\n",
    "def dijkstra(graph, start):\n",
    "    heap = [(0, start)]\n",
    "    distances = {node: float('inf') for node in graph}\n",
    "    distances[start] = 0\n",
    "    \n",
    "    while heap:\n",
    "        curr_distance, node = heapq.heappop(heap)\n",
    "        if curr_distance > distances[node]:\n",
    "            continue\n",
    "        for neighbor, weight in graph[node]:\n",
    "            distance = curr_distance + weight\n",
    "            if distance < distances[neighbor]:\n",
    "                distances[neighbor] = distance\n",
    "                heapq.heappush(heap, (distance, neighbor))\n",
    "    return distances\n",
    "```\n",
    "\n",
    "---"
   ]
  },
  {
   "cell_type": "markdown",
   "id": "2558d077-e2d5-434a-a03a-f784782583cf",
   "metadata": {},
   "source": [
    "### 5. **Breadth-First Search (BFS)**\n",
    "\n",
    "```python\n",
    "from collections import deque\n",
    "\n",
    "def bfs(graph, start):\n",
    "    queue = deque([start])\n",
    "    visited = set([start])\n",
    "    while queue:\n",
    "        node = queue.popleft()\n",
    "        print(node)\n",
    "        for neighbor in graph[node]:\n",
    "            if neighbor not in visited:\n",
    "                visited.add(neighbor)\n",
    "                queue.append(neighbor)\n",
    "```\n",
    "\n",
    "---"
   ]
  },
  {
   "cell_type": "markdown",
   "id": "164b17b3-ca48-4d40-bd71-068abece3c1c",
   "metadata": {},
   "source": [
    "### 6. **Sliding Window (Max Subarray Sum)**\n",
    "\n",
    "```python\n",
    "def max_subarray_sum(arr, k):\n",
    "    window_sum = sum(arr[:k])\n",
    "    max_sum = window_sum\n",
    "    for i in range(k, len(arr)):\n",
    "        window_sum += arr[i] - arr[i-k]\n",
    "        max_sum = max(max_sum, window_sum)\n",
    "    return max_sum\n",
    "```\n",
    "\n",
    "---"
   ]
  },
  {
   "cell_type": "markdown",
   "id": "642220f0-08d6-49d2-9a1e-6bd590f66cd1",
   "metadata": {},
   "source": [
    "### 7. **Merge Sort**\n",
    "\n",
    "```python\n",
    "def merge_sort(arr):\n",
    "    if len(arr) <= 1:\n",
    "        return arr\n",
    "    mid = len(arr)//2\n",
    "    left = merge_sort(arr[:mid])\n",
    "    right = merge_sort(arr[mid:])\n",
    "    return merge(left, right)\n",
    "\n",
    "def merge(left, right):\n",
    "    merged = []\n",
    "    i = j = 0\n",
    "    while i < len(left) and j < len(right):\n",
    "        if left[i] < right[j]:\n",
    "            merged.append(left[i])\n",
    "            i += 1\n",
    "        else:\n",
    "            merged.append(right[j])\n",
    "            j += 1\n",
    "    merged.extend(left[i:])\n",
    "    merged.extend(right[j:])\n",
    "    return merged\n",
    "```\n",
    "\n",
    "---"
   ]
  },
  {
   "cell_type": "markdown",
   "id": "af9c7087-14ab-415d-a85b-debe24302860",
   "metadata": {},
   "source": [
    "### 8. **Lowest Common Ancestor (LCA) in Binary Tree**\n",
    "\n",
    "```python\n",
    "class TreeNode:\n",
    "    def __init__(self, val):\n",
    "        self.val = val\n",
    "        self.left = self.right = None\n",
    "\n",
    "def lowest_common_ancestor(root, p, q):\n",
    "    if not root or root == p or root == q:\n",
    "        return root\n",
    "    left = lowest_common_ancestor(root.left, p, q)\n",
    "    right = lowest_common_ancestor(root.right, p, q)\n",
    "    return root if left and right else left or right\n",
    "```\n",
    "\n",
    "---"
   ]
  },
  {
   "cell_type": "markdown",
   "id": "bfabd2ae-7de5-4125-a1ec-ee4096d3c631",
   "metadata": {},
   "source": [
    "### 9. **Two Sum (Hashing)**\n",
    "\n",
    "```python\n",
    "def two_sum(nums, target):\n",
    "    seen = {}\n",
    "    for idx, num in enumerate(nums):\n",
    "        complement = target - num\n",
    "        if complement in seen:\n",
    "            return [seen[complement], idx]\n",
    "        seen[num] = idx\n",
    "```\n",
    "\n",
    "---"
   ]
  },
  {
   "cell_type": "markdown",
   "id": "03cd5ac3-fd23-4353-a620-3880518a6008",
   "metadata": {},
   "source": [
    "### 10. **Union-Find (Disjoint Set Union - DSU)**\n",
    "\n",
    "```python\n",
    "class UnionFind:\n",
    "    def __init__(self, n):\n",
    "        self.parent = list(range(n))\n",
    "\n",
    "    def find(self, x):\n",
    "        if x != self.parent[x]:\n",
    "            self.parent[x] = self.find(self.parent[x])\n",
    "        return self.parent[x]\n",
    "\n",
    "    def union(self, x, y):\n",
    "        self.parent[self.find(x)] = self.find(y)\n",
    "```\n",
    "\n",
    "---"
   ]
  },
  {
   "cell_type": "markdown",
   "id": "70d25a7f-0f80-49ab-a68b-cc327b65b201",
   "metadata": {},
   "source": [
    "## 🌟 If I had to recommend **learning priority**:\n",
    "\n",
    "| Priority | Learn First... |\n",
    "|:---------|:---------------|\n",
    "| 1        | Binary Search, BFS/DFS |\n",
    "| 2        | Sliding Window, Two Sum |\n",
    "| 3        | Quick Sort, Merge Sort |\n",
    "| 4        | Dijkstra, Union Find |\n",
    "| 5        | LCA (Trees), Fibonacci (Memoization) |\n",
    "\n",
    "---"
   ]
  },
  {
   "cell_type": "code",
   "execution_count": null,
   "id": "61e895c1-d93d-46dd-90af-e50d604d3d6a",
   "metadata": {},
   "outputs": [],
   "source": []
  }
 ],
 "metadata": {
  "kernelspec": {
   "display_name": "python3",
   "language": "python",
   "name": "python3"
  }
 },
 "nbformat": 4,
 "nbformat_minor": 5
}
