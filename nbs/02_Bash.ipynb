{
 "cells": [
  {
   "cell_type": "markdown",
   "id": "8f96333b-f146-4bfe-885b-69d98f465837",
   "metadata": {},
   "source": [
    "# Bash Scripts\n",
    "\n",
    "> Bash Scripts\n",
    "\n",
    "\n",
    "- skip_showdoc: true\n",
    "- skip_exec: true"
   ]
  },
  {
   "cell_type": "markdown",
   "id": "46cc1b5b-c45e-4313-820b-981e96316073",
   "metadata": {},
   "source": [
    "## Basics of Bash Scripting"
   ]
  },
  {
   "cell_type": "markdown",
   "id": "3f3450c5-643c-47cd-8abe-7dd9ab1bee69",
   "metadata": {},
   "source": [
    "### Creating a Bash Script"
   ]
  },
  {
   "cell_type": "code",
   "execution_count": null,
   "id": "03de2a1b-63b7-4fc9-8d7a-583d53b6e7f8",
   "metadata": {},
   "outputs": [],
   "source": [
    "!touch script.sh"
   ]
  },
  {
   "cell_type": "markdown",
   "id": "f0f1f196-4c44-43fa-8366-268c9198ef7a",
   "metadata": {},
   "source": [
    "### Make the script executable:"
   ]
  },
  {
   "cell_type": "code",
   "execution_count": null,
   "id": "3cd6a398-ca0e-4475-adde-674e435785a8",
   "metadata": {},
   "outputs": [],
   "source": [
    "!chmod +x script.sh"
   ]
  },
  {
   "cell_type": "markdown",
   "id": "9f6bedd8-ca55-4207-a0c0-a207aeb74c17",
   "metadata": {},
   "source": [
    "### Open the file in a text editor and start with the shebang (#!)\n",
    "> Tells the system to use bash to execute the script:"
   ]
  },
  {
   "cell_type": "code",
   "execution_count": null,
   "id": "26647303-e816-4ec2-9053-3890291867e8",
   "metadata": {},
   "outputs": [],
   "source": [
    "!echo '#!/bin/bash' > script.sh"
   ]
  },
  {
   "cell_type": "code",
   "execution_count": null,
   "id": "08ffc037-0034-49c3-80af-52b5f14cd053",
   "metadata": {},
   "outputs": [
    {
     "name": "stdout",
     "output_type": "stream",
     "text": [
      "#!/bin/bash\n"
     ]
    }
   ],
   "source": [
    "!cat script.sh"
   ]
  },
  {
   "cell_type": "markdown",
   "id": "bbc73f89-5e76-4e39-b9d6-532ae77c7c5b",
   "metadata": {},
   "source": [
    "### Add commands to your script:"
   ]
  },
  {
   "cell_type": "code",
   "execution_count": null,
   "id": "6676a4aa-b3d8-4e43-a299-2676582f426f",
   "metadata": {},
   "outputs": [],
   "source": [
    "!echo 'echo \"Hello, World!\"' >> script.sh"
   ]
  },
  {
   "cell_type": "markdown",
   "id": "6ae73603-73ab-4073-b021-9644b9246288",
   "metadata": {},
   "source": [
    "### Run the script:"
   ]
  },
  {
   "cell_type": "code",
   "execution_count": null,
   "id": "650827f4-579d-4f30-9396-f7b07c7bd9b4",
   "metadata": {},
   "outputs": [
    {
     "name": "stdout",
     "output_type": "stream",
     "text": [
      "Hello, World!\n"
     ]
    }
   ],
   "source": [
    "!./script.sh"
   ]
  },
  {
   "cell_type": "markdown",
   "id": "d0c9947d-b52d-4fec-b444-e909949676c5",
   "metadata": {},
   "source": [
    "## Variables"
   ]
  },
  {
   "cell_type": "markdown",
   "id": "2acd9960-c18d-4fb2-bb20-de816dbc251d",
   "metadata": {},
   "source": [
    "```sh\n",
    "#!/bin/bash\n",
    "name=\"John\"\n",
    "echo \"Hello, $name!\"\n",
    "```"
   ]
  },
  {
   "cell_type": "markdown",
   "id": "00b91297-29cc-418b-acd2-a08f620f3d92",
   "metadata": {},
   "source": [
    "## Conditionals"
   ]
  },
  {
   "cell_type": "markdown",
   "id": "b17504a4-40cb-4fe5-ae83-a6cfed9bec09",
   "metadata": {},
   "source": [
    "```sh\n",
    "#!/bin/bash\n",
    "if [ \"$1\" -gt 10 ]; then\n",
    "  echo \"The number is greater than 10\"\n",
    "else\n",
    "  echo \"The number is 10 or less\"\n",
    "fi\n",
    "\n",
    "```"
   ]
  },
  {
   "cell_type": "markdown",
   "id": "7aac19e1-9468-4127-8489-77bd0c12e007",
   "metadata": {},
   "source": [
    "## Loops"
   ]
  },
  {
   "cell_type": "markdown",
   "id": "6757a2a0-5494-42bd-9420-c6950a4eab26",
   "metadata": {},
   "source": [
    "```sh\n",
    "#!/bin/bash\n",
    "for i in {1..5}; do\n",
    "  echo \"Iteration $i\"\n",
    "done\n",
    "\n",
    "```"
   ]
  },
  {
   "cell_type": "markdown",
   "id": "4a6ac9ce-afe3-48a5-8593-f7a00aa9352c",
   "metadata": {},
   "source": [
    "## Functions"
   ]
  },
  {
   "cell_type": "markdown",
   "id": "13a08f7d-1392-47fa-a87e-6865cdaa399d",
   "metadata": {},
   "source": [
    "```sh\n",
    "#!/bin/bash\n",
    "greet() {\n",
    "  echo \"Hello, $1!\"\n",
    "}\n",
    "\n",
    "greet \"Alice\"\n",
    "greet \"Bob\"\n",
    "\n",
    "```"
   ]
  },
  {
   "cell_type": "markdown",
   "id": "412da1a5-678f-4014-bbd0-b5b8f23e544f",
   "metadata": {},
   "source": [
    "## Command Line Arguments"
   ]
  },
  {
   "cell_type": "markdown",
   "id": "de86a530-b510-4549-9f7d-38a7762be48b",
   "metadata": {},
   "source": [
    "```sh\n",
    "#!/bin/bash\n",
    "echo \"First argument: $1\"\n",
    "echo \"Second argument: $2\"\n",
    "\n",
    "```"
   ]
  },
  {
   "cell_type": "markdown",
   "id": "f5d74bf9-8284-4e30-88a4-b97d17c3535e",
   "metadata": {},
   "source": [
    "### Run the script with arguments:"
   ]
  },
  {
   "cell_type": "markdown",
   "id": "74a500ee-4e4a-413b-ae9a-3814cd1eb069",
   "metadata": {},
   "source": [
    "```sh\n",
    "./script.sh arg1 arg2\n",
    "```"
   ]
  },
  {
   "cell_type": "markdown",
   "id": "c40afa4c-c57d-4e77-b30e-dd9897e3c3ff",
   "metadata": {},
   "source": [
    "## Error Handling"
   ]
  },
  {
   "cell_type": "markdown",
   "id": "2998a117-249c-4659-a7da-6bb37ec3d8e2",
   "metadata": {},
   "source": [
    "```sh\n",
    "#!/bin/bash\n",
    "set -e  # Exit on error\n",
    "\n",
    "trap 'echo \"Error occurred on line $LINENO\"' ERR\n",
    "\n",
    "# Command that might fail\n",
    "cp non_existent_file.txt destination/\n",
    "```"
   ]
  },
  {
   "cell_type": "markdown",
   "id": "42644632-53a2-45c3-8d5e-eff907ae02bf",
   "metadata": {},
   "source": [
    "## Examples"
   ]
  },
  {
   "cell_type": "markdown",
   "id": "9a0b741e-3a23-40af-a94e-b9c4457eb74b",
   "metadata": {},
   "source": [
    "### Update and Upgrade System"
   ]
  },
  {
   "cell_type": "markdown",
   "id": "4d408407-dd95-4a58-9258-88f580464cb8",
   "metadata": {},
   "source": [
    "```sh\n",
    "#!/bin/bash\n",
    "\n",
    "sudo apt-get update\n",
    "sudo apt-get upgrade -y\n",
    "sudo apt-get dist-upgrade -y\n",
    "sudo apt-get autoremove -y\n",
    "```"
   ]
  },
  {
   "cell_type": "markdown",
   "id": "8d4ec595-8507-4402-8538-cd5fe5f7dfc0",
   "metadata": {},
   "source": [
    "### Example Script for Setting Up a Django Project with PostgreSQL"
   ]
  },
  {
   "cell_type": "markdown",
   "id": "b8636b6a-93c7-4c08-8442-550b4eda15ae",
   "metadata": {},
   "source": [
    "```sh\n",
    "#!/bin/bash\n",
    "\n",
    "# Variables\n",
    "PROJECT_NAME=\"myproject\"\n",
    "DB_NAME=\"mydatabase\"\n",
    "DB_USER=\"myuser\"\n",
    "DB_PASSWORD=\"mypassword\"\n",
    "\n",
    "# Update and install dependencies\n",
    "sudo apt-get update\n",
    "sudo apt-get install -y python3-pip python3-dev libpq-dev postgresql postgresql-contrib nginx curl\n",
    "\n",
    "# Set up PostgreSQL\n",
    "sudo -u postgres psql <<EOF\n",
    "CREATE DATABASE $DB_NAME;\n",
    "CREATE USER $DB_USER WITH PASSWORD '$DB_PASSWORD';\n",
    "ALTER ROLE $DB_USER SET client_encoding TO 'utf8';\n",
    "ALTER ROLE $DB_USER SET default_transaction_isolation TO 'read committed';\n",
    "ALTER ROLE $DB_USER SET timezone TO 'UTC';\n",
    "GRANT ALL PRIVILEGES ON DATABASE $DB_NAME TO $DB_USER;\n",
    "EOF\n",
    "\n",
    "# Create a virtual environment\n",
    "python3 -m venv myenv\n",
    "source myenv/bin/activate\n",
    "\n",
    "# Install Django and psycopg2\n",
    "pip install django psycopg2-binary\n",
    "\n",
    "# Create Django project\n",
    "django-admin startproject $PROJECT_NAME\n",
    "\n",
    "# Configure Django settings\n",
    "cd $PROJECT_NAME/$PROJECT_NAME\n",
    "sed -i \"s/ENGINE': 'django.db.backends.sqlite3/ENGINE': 'django.db.backends.postgresql/g\" settings.py\n",
    "sed -i \"s/NAME': BASE_DIR / 'db.sqlite3/NAME': '$DB_NAME'/g\" settings.py\n",
    "sed -i \"/'ENGINE': 'django.db.backends.postgresql/a \\        'USER': '$DB_USER',\\n        'PASSWORD': '$DB_PASSWORD',\\n        'HOST': 'localhost',\\n        'PORT': '',\" settings.py\n",
    "\n",
    "# Run migrations\n",
    "cd ..\n",
    "python manage.py migrate\n",
    "\n",
    "# Create superuser\n",
    "python manage.py createsuperuser\n",
    "\n",
    "# Start the development server\n",
    "python manage.py runserver\n",
    "\n",
    "```"
   ]
  },
  {
   "cell_type": "code",
   "execution_count": null,
   "id": "7f836b26-c46e-4a38-9acc-e9f65bfd94da",
   "metadata": {},
   "outputs": [],
   "source": []
  }
 ],
 "metadata": {
  "kernelspec": {
   "display_name": "python3",
   "language": "python",
   "name": "python3"
  },
  "widgets": {
   "application/vnd.jupyter.widget-state+json": {
    "state": {},
    "version_major": 2,
    "version_minor": 0
   }
  }
 },
 "nbformat": 4,
 "nbformat_minor": 5
}
