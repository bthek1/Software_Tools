{
 "cells": [
  {
   "cell_type": "markdown",
   "id": "6d62b632-0848-40c4-b35c-ba4130945f57",
   "metadata": {},
   "source": [
    "# Linux Computer\n",
    "\n",
    "\n",
    "> New Ubuntu Computer\n",
    "\n",
    "\n",
    "- skip_showdoc: true\n",
    "- skip_exec: true"
   ]
  },
  {
   "cell_type": "markdown",
   "id": "a2ad1954-6ca0-4834-b81a-d2aadf106169",
   "metadata": {},
   "source": [
    "## Install Git"
   ]
  },
  {
   "cell_type": "markdown",
   "id": "ead9b001-fda0-4c0a-a176-8ee4342abe43",
   "metadata": {},
   "source": [
    "```sh\n",
    "sudo apt install git\n",
    "```"
   ]
  },
  {
   "cell_type": "markdown",
   "id": "ed839b1c-7e89-41aa-bd63-18d9ef6f91dd",
   "metadata": {},
   "source": [
    "## Install Code\n"
   ]
  },
  {
   "cell_type": "markdown",
   "id": "54b3f994-6d8f-433e-8c3c-abc7fe0dfe8f",
   "metadata": {},
   "source": [
    "```sh\n",
    "sudo snap install code --classic\n",
    "\n",
    "```\n"
   ]
  },
  {
   "cell_type": "markdown",
   "id": "27223720-a494-4a57-a563-397cdf87aadc",
   "metadata": {},
   "source": [
    "## Install stow"
   ]
  },
  {
   "cell_type": "markdown",
   "id": "2ab58cf1-8360-413e-b6e5-b75c8d45389f",
   "metadata": {},
   "source": [
    "```sh\n",
    "sudp apt install stow\n",
    "```"
   ]
  },
  {
   "cell_type": "markdown",
   "id": "5ab0a67f-9576-447e-ac39-54616105a640",
   "metadata": {},
   "source": [
    "## Install tmux"
   ]
  },
  {
   "cell_type": "markdown",
   "id": "3e90dea5-aa14-4d66-bb86-d4a547a682f8",
   "metadata": {},
   "source": [
    "```sh\n",
    "sudo apt install tmux\n",
    "```\n"
   ]
  },
  {
   "cell_type": "markdown",
   "id": "9ecbdbc7-599e-479a-b622-62db98f5562d",
   "metadata": {},
   "source": [
    "## [Set up ssh with Github](https://bthek1.github.io/WEB_doc/github.html)"
   ]
  },
  {
   "cell_type": "markdown",
   "id": "595bdcd3-a9a8-49c9-a110-704e2085dae7",
   "metadata": {},
   "source": [
    "## Install curl"
   ]
  },
  {
   "cell_type": "markdown",
   "id": "7afb2573-90a3-45ab-b544-21ffde458580",
   "metadata": {},
   "source": [
    "```sh\n",
    "sudo apt install curl\n",
    "\n",
    "```"
   ]
  },
  {
   "cell_type": "markdown",
   "id": "b66b1b3a-f2cd-48b7-a5b8-a1567ced9e86",
   "metadata": {},
   "source": [
    "## Battery limit Change"
   ]
  },
  {
   "cell_type": "markdown",
   "id": "d13e4aa8-90b7-4375-9477-2e7d6953ef45",
   "metadata": {},
   "source": [
    "### Installation"
   ]
  },
  {
   "cell_type": "markdown",
   "id": "210b46e1-9b22-40db-9fd2-24d0bb144694",
   "metadata": {},
   "source": [
    "```sh\n",
    "sudo apt-get update\n",
    "sudo apt-get install tlp tlp-rdw\n",
    "\n",
    "```"
   ]
  },
  {
   "cell_type": "markdown",
   "id": "a8df84bc-03f4-4928-8d1b-f7882e9d568e",
   "metadata": {},
   "source": [
    "### Enable"
   ]
  },
  {
   "cell_type": "markdown",
   "id": "ddd52e0f-8084-4030-945c-c2baa890e257",
   "metadata": {},
   "source": [
    "```sh\n",
    "sudo systemctl enable tlp\n",
    "\n",
    "```"
   ]
  },
  {
   "cell_type": "markdown",
   "id": "42d3d455-9f22-448e-a5e1-28cfc442690c",
   "metadata": {},
   "source": [
    "### Check"
   ]
  },
  {
   "cell_type": "markdown",
   "id": "bf829944-7f4f-4fec-997d-a9bbd5f77c9b",
   "metadata": {},
   "source": [
    "```sh\n",
    "\n",
    "sudo systemctl status tlp\n",
    "\n",
    "sudo tlp-stat -b\n",
    "\n",
    "```"
   ]
  },
  {
   "cell_type": "markdown",
   "id": "252834a5-be8e-442e-886b-9160f5e232ec",
   "metadata": {},
   "source": [
    "### Configure"
   ]
  },
  {
   "cell_type": "markdown",
   "id": "48692013-7fd7-4cd7-a4f3-341acacf6293",
   "metadata": {},
   "source": [
    "> edit `/etc/tlp.conf`\n",
    "```sh\n",
    "START_CHARGE_THRESH_BAT0=75\n",
    "STOP_CHARGE_THRESH_BAT0=80\n",
    "\n",
    "```\n"
   ]
  },
  {
   "cell_type": "markdown",
   "id": "bba9cc0b-3de7-4fb6-b29b-8a65ae10c5b0",
   "metadata": {},
   "source": [
    "## Temporary Full Charge"
   ]
  },
  {
   "cell_type": "markdown",
   "id": "265912a0-8f31-42cf-ae0d-5300f0edc910",
   "metadata": {},
   "source": [
    "```sh\n",
    "sudo tlp fullcharge\n",
    "```"
   ]
  },
  {
   "cell_type": "code",
   "execution_count": null,
   "id": "84e115e1-a394-483b-b6e4-50c015cd295a",
   "metadata": {},
   "outputs": [],
   "source": []
  }
 ],
 "metadata": {
  "kernelspec": {
   "display_name": "python3",
   "language": "python",
   "name": "python3"
  }
 },
 "nbformat": 4,
 "nbformat_minor": 5
}
